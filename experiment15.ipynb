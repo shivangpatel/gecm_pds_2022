{
 "cells": [
  {
   "cell_type": "code",
   "execution_count": 1,
   "id": "76dbeaa1-e0cd-4766-9417-5c194ede72a1",
   "metadata": {
    "tags": []
   },
   "outputs": [],
   "source": [
    "import numpy as np\n",
    "import pandas as pd"
   ]
  },
  {
   "cell_type": "code",
   "execution_count": 2,
   "id": "2bfab98a-1a28-4f4d-abc3-f701a8ac8594",
   "metadata": {
    "tags": []
   },
   "outputs": [],
   "source": [
    "df_l = pd.read_csv('data/ag_news_csv/classes.txt', header=None)"
   ]
  },
  {
   "cell_type": "code",
   "execution_count": 3,
   "id": "a21792ba-e12d-4e3d-a85a-a67856730d7e",
   "metadata": {
    "tags": []
   },
   "outputs": [
    {
     "name": "stdout",
     "output_type": "stream",
     "text": [
      "['World', 'Sports', 'Business', 'Sci/Tech']\n"
     ]
    }
   ],
   "source": [
    "categories = df_l.iloc[:,0]\n",
    "\n",
    "categories = categories.values.tolist()\n",
    "\n",
    "print(categories)"
   ]
  },
  {
   "cell_type": "code",
   "execution_count": 31,
   "id": "aac1c284-cefc-434d-9193-33afb5e6e1c2",
   "metadata": {
    "tags": []
   },
   "outputs": [],
   "source": [
    "# load the training dataset\n",
    "df = pd.read_csv('data/ag_news_csv/train.csv', header=None)\n",
    "\n",
    "#to shuffle data into pandas data frame\n",
    "df_training = df.sample(frac=1, random_state=0)"
   ]
  },
  {
   "cell_type": "code",
   "execution_count": 32,
   "id": "0e29a427-3c54-4686-a0e3-35818e151338",
   "metadata": {
    "tags": []
   },
   "outputs": [],
   "source": [
    "labels_training, texts_training = df_training.iloc[:, 0], df_training.iloc[:, 2]\n",
    "\n",
    "labels_training = np.array(labels_training.values.tolist())\n",
    "texts_training = texts_training.values.tolist()"
   ]
  },
  {
   "cell_type": "code",
   "execution_count": 34,
   "id": "ae375691-b0ac-4102-929f-51f0682d5ef4",
   "metadata": {
    "tags": []
   },
   "outputs": [
    {
     "name": "stdout",
     "output_type": "stream",
     "text": [
      "<class 'numpy.ndarray'>\n",
      "<class 'list'>\n",
      "120000\n",
      "120000\n"
     ]
    }
   ],
   "source": [
    "print(type(labels_training))\n",
    "print(type(texts_training))\n",
    "\n",
    "print(len(labels_training))\n",
    "print(len(texts_training))"
   ]
  },
  {
   "cell_type": "markdown",
   "id": "c4ee4926-f3e5-4544-93fa-95f5204bdcf7",
   "metadata": {
    "tags": []
   },
   "source": [
    "## Tokenizing text with \n",
    "\n",
    "You can go with CountVectorizer. CharNGramAnalyzer function is depricated.\n",
    "\n",
    "CountVectorizer v/s CharNGramAnalyzer -- | \n",
    "https://stackoverflow.com/a/46602813/4386025"
   ]
  },
  {
   "cell_type": "code",
   "execution_count": 36,
   "id": "c02778b4-699d-4846-b780-303e5be519a8",
   "metadata": {
    "tags": []
   },
   "outputs": [
    {
     "data": {
      "text/plain": [
       "(120000, 60741)"
      ]
     },
     "execution_count": 36,
     "metadata": {},
     "output_type": "execute_result"
    }
   ],
   "source": [
    "from sklearn.feature_extraction.text import CountVectorizer\n",
    "count_vect = CountVectorizer(ngram_range = (1, 1))\n",
    "X_train_counts = count_vect.fit_transform(texts_training)\n",
    "X_train_counts.shape"
   ]
  },
  {
   "cell_type": "code",
   "execution_count": 58,
   "id": "13edfe89-389c-4713-af97-2ea87967726a",
   "metadata": {
    "tags": []
   },
   "outputs": [
    {
     "name": "stdout",
     "output_type": "stream",
     "text": [
      "38505\n"
     ]
    }
   ],
   "source": [
    "#it will print number of times given word is appeared. Here, \"oil\" is your word.\n",
    "print(count_vect.vocabulary_.get('oil'))"
   ]
  },
  {
   "cell_type": "code",
   "execution_count": 10,
   "id": "18be12ed-ad3c-4a94-a7a7-43fc74a5de94",
   "metadata": {
    "tags": []
   },
   "outputs": [],
   "source": [
    "#From occurrences to frequencies"
   ]
  },
  {
   "cell_type": "code",
   "execution_count": 38,
   "id": "f504000d-1993-4cd4-9e2a-c64ac1ecf0c4",
   "metadata": {
    "tags": []
   },
   "outputs": [
    {
     "data": {
      "text/plain": [
       "(120000, 60741)"
      ]
     },
     "execution_count": 38,
     "metadata": {},
     "output_type": "execute_result"
    }
   ],
   "source": [
    "from sklearn.feature_extraction.text import TfidfTransformer\n",
    "tf_transformer = TfidfTransformer(use_idf=False).fit(X_train_counts)\n",
    "X_train_tf = tf_transformer.transform(X_train_counts)\n",
    "X_train_tf.shape"
   ]
  },
  {
   "cell_type": "code",
   "execution_count": 39,
   "id": "f14b46c4-15f8-4500-a49e-a713ed94feca",
   "metadata": {
    "tags": []
   },
   "outputs": [
    {
     "data": {
      "text/plain": [
       "(120000, 60741)"
      ]
     },
     "execution_count": 39,
     "metadata": {},
     "output_type": "execute_result"
    }
   ],
   "source": [
    "tfidf_transformer = TfidfTransformer()\n",
    "X_train_tfidf = tfidf_transformer.fit_transform(X_train_counts)\n",
    "X_train_tfidf.shape"
   ]
  },
  {
   "cell_type": "code",
   "execution_count": 40,
   "id": "28190328-36e6-4fde-b4d4-514b91a036fe",
   "metadata": {
    "tags": []
   },
   "outputs": [],
   "source": [
    "#Training a classifier"
   ]
  },
  {
   "cell_type": "code",
   "execution_count": 41,
   "id": "302f5f39-d2d4-421a-9500-95fc2aa0e4ff",
   "metadata": {
    "tags": []
   },
   "outputs": [],
   "source": [
    "from sklearn.naive_bayes import MultinomialNB\n",
    "clf = MultinomialNB().fit(X_train_tfidf, labels_training)"
   ]
  },
  {
   "cell_type": "code",
   "execution_count": 42,
   "id": "54c3167a-ed83-48b2-b75e-c63ad6bcc49a",
   "metadata": {
    "tags": []
   },
   "outputs": [
    {
     "name": "stdout",
     "output_type": "stream",
     "text": [
      "['World', 'Sports', 'Business', 'Sci/Tech']\n"
     ]
    }
   ],
   "source": [
    "print(categories)"
   ]
  },
  {
   "cell_type": "code",
   "execution_count": 50,
   "id": "3e1a08d5-faef-4ef6-b078-fa7d3a293924",
   "metadata": {
    "tags": []
   },
   "outputs": [
    {
     "name": "stdout",
     "output_type": "stream",
     "text": [
      "'crude price' => Sci/Tech\n",
      "'crude price' => 3\n",
      "'crude price 123' => Sci/Tech\n",
      "'crude price 123' => 3\n"
     ]
    }
   ],
   "source": [
    "#Testing Sample\n",
    "\n",
    "docs_new = ['crude price', 'crude price 123']\n",
    "X_new_counts = count_vect.transform(docs_new)\n",
    "X_new_tfidf = tfidf_transformer.transform(X_new_counts)\n",
    "\n",
    "predicted = clf.predict(X_new_tfidf)\n",
    "\n",
    "for doc, label_ in zip(docs_new, predicted):\n",
    "    print('%r => %s' % (doc, categories[label_]))\n",
    "    print('%r => %s' % (doc, label_))"
   ]
  },
  {
   "cell_type": "markdown",
   "id": "29a79155-c351-4a76-96f0-498fd1092621",
   "metadata": {},
   "source": [
    "## Building a pipeline"
   ]
  },
  {
   "cell_type": "code",
   "execution_count": 44,
   "id": "65be3588-731e-4eb9-a2ea-23ba1ba87ea4",
   "metadata": {},
   "outputs": [],
   "source": [
    "from sklearn.pipeline import Pipeline\n",
    "text_clf = Pipeline([\n",
    "    ('vect', CountVectorizer()),\n",
    "    ('tfidf', TfidfTransformer()),\n",
    "    ('clf', MultinomialNB()),\n",
    "])"
   ]
  },
  {
   "cell_type": "code",
   "execution_count": 45,
   "id": "2f4c882b-7e20-4253-87e1-693a92d1b3a1",
   "metadata": {},
   "outputs": [
    {
     "data": {
      "text/html": [
       "<style>#sk-container-id-2 {color: black;}#sk-container-id-2 pre{padding: 0;}#sk-container-id-2 div.sk-toggleable {background-color: white;}#sk-container-id-2 label.sk-toggleable__label {cursor: pointer;display: block;width: 100%;margin-bottom: 0;padding: 0.3em;box-sizing: border-box;text-align: center;}#sk-container-id-2 label.sk-toggleable__label-arrow:before {content: \"▸\";float: left;margin-right: 0.25em;color: #696969;}#sk-container-id-2 label.sk-toggleable__label-arrow:hover:before {color: black;}#sk-container-id-2 div.sk-estimator:hover label.sk-toggleable__label-arrow:before {color: black;}#sk-container-id-2 div.sk-toggleable__content {max-height: 0;max-width: 0;overflow: hidden;text-align: left;background-color: #f0f8ff;}#sk-container-id-2 div.sk-toggleable__content pre {margin: 0.2em;color: black;border-radius: 0.25em;background-color: #f0f8ff;}#sk-container-id-2 input.sk-toggleable__control:checked~div.sk-toggleable__content {max-height: 200px;max-width: 100%;overflow: auto;}#sk-container-id-2 input.sk-toggleable__control:checked~label.sk-toggleable__label-arrow:before {content: \"▾\";}#sk-container-id-2 div.sk-estimator input.sk-toggleable__control:checked~label.sk-toggleable__label {background-color: #d4ebff;}#sk-container-id-2 div.sk-label input.sk-toggleable__control:checked~label.sk-toggleable__label {background-color: #d4ebff;}#sk-container-id-2 input.sk-hidden--visually {border: 0;clip: rect(1px 1px 1px 1px);clip: rect(1px, 1px, 1px, 1px);height: 1px;margin: -1px;overflow: hidden;padding: 0;position: absolute;width: 1px;}#sk-container-id-2 div.sk-estimator {font-family: monospace;background-color: #f0f8ff;border: 1px dotted black;border-radius: 0.25em;box-sizing: border-box;margin-bottom: 0.5em;}#sk-container-id-2 div.sk-estimator:hover {background-color: #d4ebff;}#sk-container-id-2 div.sk-parallel-item::after {content: \"\";width: 100%;border-bottom: 1px solid gray;flex-grow: 1;}#sk-container-id-2 div.sk-label:hover label.sk-toggleable__label {background-color: #d4ebff;}#sk-container-id-2 div.sk-serial::before {content: \"\";position: absolute;border-left: 1px solid gray;box-sizing: border-box;top: 0;bottom: 0;left: 50%;z-index: 0;}#sk-container-id-2 div.sk-serial {display: flex;flex-direction: column;align-items: center;background-color: white;padding-right: 0.2em;padding-left: 0.2em;position: relative;}#sk-container-id-2 div.sk-item {position: relative;z-index: 1;}#sk-container-id-2 div.sk-parallel {display: flex;align-items: stretch;justify-content: center;background-color: white;position: relative;}#sk-container-id-2 div.sk-item::before, #sk-container-id-2 div.sk-parallel-item::before {content: \"\";position: absolute;border-left: 1px solid gray;box-sizing: border-box;top: 0;bottom: 0;left: 50%;z-index: -1;}#sk-container-id-2 div.sk-parallel-item {display: flex;flex-direction: column;z-index: 1;position: relative;background-color: white;}#sk-container-id-2 div.sk-parallel-item:first-child::after {align-self: flex-end;width: 50%;}#sk-container-id-2 div.sk-parallel-item:last-child::after {align-self: flex-start;width: 50%;}#sk-container-id-2 div.sk-parallel-item:only-child::after {width: 0;}#sk-container-id-2 div.sk-dashed-wrapped {border: 1px dashed gray;margin: 0 0.4em 0.5em 0.4em;box-sizing: border-box;padding-bottom: 0.4em;background-color: white;}#sk-container-id-2 div.sk-label label {font-family: monospace;font-weight: bold;display: inline-block;line-height: 1.2em;}#sk-container-id-2 div.sk-label-container {text-align: center;}#sk-container-id-2 div.sk-container {/* jupyter's `normalize.less` sets `[hidden] { display: none; }` but bootstrap.min.css set `[hidden] { display: none !important; }` so we also need the `!important` here to be able to override the default hidden behavior on the sphinx rendered scikit-learn.org. See: https://github.com/scikit-learn/scikit-learn/issues/21755 */display: inline-block !important;position: relative;}#sk-container-id-2 div.sk-text-repr-fallback {display: none;}</style><div id=\"sk-container-id-2\" class=\"sk-top-container\"><div class=\"sk-text-repr-fallback\"><pre>Pipeline(steps=[(&#x27;vect&#x27;, CountVectorizer()), (&#x27;tfidf&#x27;, TfidfTransformer()),\n",
       "                (&#x27;clf&#x27;, MultinomialNB())])</pre><b>In a Jupyter environment, please rerun this cell to show the HTML representation or trust the notebook. <br />On GitHub, the HTML representation is unable to render, please try loading this page with nbviewer.org.</b></div><div class=\"sk-container\" hidden><div class=\"sk-item sk-dashed-wrapped\"><div class=\"sk-label-container\"><div class=\"sk-label sk-toggleable\"><input class=\"sk-toggleable__control sk-hidden--visually\" id=\"sk-estimator-id-5\" type=\"checkbox\" ><label for=\"sk-estimator-id-5\" class=\"sk-toggleable__label sk-toggleable__label-arrow\">Pipeline</label><div class=\"sk-toggleable__content\"><pre>Pipeline(steps=[(&#x27;vect&#x27;, CountVectorizer()), (&#x27;tfidf&#x27;, TfidfTransformer()),\n",
       "                (&#x27;clf&#x27;, MultinomialNB())])</pre></div></div></div><div class=\"sk-serial\"><div class=\"sk-item\"><div class=\"sk-estimator sk-toggleable\"><input class=\"sk-toggleable__control sk-hidden--visually\" id=\"sk-estimator-id-6\" type=\"checkbox\" ><label for=\"sk-estimator-id-6\" class=\"sk-toggleable__label sk-toggleable__label-arrow\">CountVectorizer</label><div class=\"sk-toggleable__content\"><pre>CountVectorizer()</pre></div></div></div><div class=\"sk-item\"><div class=\"sk-estimator sk-toggleable\"><input class=\"sk-toggleable__control sk-hidden--visually\" id=\"sk-estimator-id-7\" type=\"checkbox\" ><label for=\"sk-estimator-id-7\" class=\"sk-toggleable__label sk-toggleable__label-arrow\">TfidfTransformer</label><div class=\"sk-toggleable__content\"><pre>TfidfTransformer()</pre></div></div></div><div class=\"sk-item\"><div class=\"sk-estimator sk-toggleable\"><input class=\"sk-toggleable__control sk-hidden--visually\" id=\"sk-estimator-id-8\" type=\"checkbox\" ><label for=\"sk-estimator-id-8\" class=\"sk-toggleable__label sk-toggleable__label-arrow\">MultinomialNB</label><div class=\"sk-toggleable__content\"><pre>MultinomialNB()</pre></div></div></div></div></div></div></div>"
      ],
      "text/plain": [
       "Pipeline(steps=[('vect', CountVectorizer()), ('tfidf', TfidfTransformer()),\n",
       "                ('clf', MultinomialNB())])"
      ]
     },
     "execution_count": 45,
     "metadata": {},
     "output_type": "execute_result"
    }
   ],
   "source": [
    "text_clf.fit(texts_training, labels_training)"
   ]
  },
  {
   "cell_type": "markdown",
   "id": "9bfce1fd-e19e-42c0-8df8-7af8ce291f85",
   "metadata": {},
   "source": [
    "## Evaluation of the performance on the test set"
   ]
  },
  {
   "cell_type": "code",
   "execution_count": 46,
   "id": "6800764f-26be-4871-9c61-a600ca8cd591",
   "metadata": {
    "tags": []
   },
   "outputs": [],
   "source": [
    "# load the training dataset\n",
    "df_test = pd.read_csv('data/ag_news_csv/test.csv', header=None)\n",
    "\n",
    "#to shuffle data into pandas data frame\n",
    "df_test = df_test.sample(frac=1, random_state=0)"
   ]
  },
  {
   "cell_type": "code",
   "execution_count": 47,
   "id": "817603d5-4166-41d6-ab32-60a4e50a56cb",
   "metadata": {
    "tags": []
   },
   "outputs": [],
   "source": [
    "labels_test, texts_test = df_test.iloc[:, 0], df_test.iloc[:, 2]\n",
    "\n",
    "labels_test = np.array(labels_test.values.tolist())\n",
    "texts_test = texts_test.values.tolist()"
   ]
  },
  {
   "cell_type": "code",
   "execution_count": 48,
   "id": "fb7de999-b65b-4f7e-bde4-caa58de45a7c",
   "metadata": {
    "tags": []
   },
   "outputs": [
    {
     "data": {
      "text/plain": [
       "0.8935526315789474"
      ]
     },
     "execution_count": 48,
     "metadata": {},
     "output_type": "execute_result"
    }
   ],
   "source": [
    "predicted = text_clf.predict(texts_test)\n",
    "np.mean(predicted == labels_test)"
   ]
  },
  {
   "cell_type": "markdown",
   "id": "02dd1111-5c42-4c2b-8ee0-0d34fde8c85e",
   "metadata": {},
   "source": [
    "## performance analysis"
   ]
  },
  {
   "cell_type": "code",
   "execution_count": 49,
   "id": "4e62e461-9ed5-4659-a9ec-a645882917d7",
   "metadata": {
    "tags": []
   },
   "outputs": [
    {
     "name": "stdout",
     "output_type": "stream",
     "text": [
      "              precision    recall  f1-score   support\n",
      "\n",
      "       World       0.91      0.89      0.90      1900\n",
      "      Sports       0.95      0.97      0.96      1900\n",
      "    Business       0.86      0.84      0.85      1900\n",
      "    Sci/Tech       0.86      0.87      0.87      1900\n",
      "\n",
      "    accuracy                           0.89      7600\n",
      "   macro avg       0.89      0.89      0.89      7600\n",
      "weighted avg       0.89      0.89      0.89      7600\n",
      "\n"
     ]
    },
    {
     "data": {
      "text/plain": [
       "array([[1687,   62,  101,   50],\n",
       "       [  29, 1845,   11,   15],\n",
       "       [  71,   21, 1605,  203],\n",
       "       [  71,   23,  152, 1654]])"
      ]
     },
     "execution_count": 49,
     "metadata": {},
     "output_type": "execute_result"
    }
   ],
   "source": [
    "from sklearn import metrics\n",
    "print(metrics.classification_report(labels_test, predicted, target_names=categories))\n",
    "\n",
    "metrics.confusion_matrix(labels_test, predicted)"
   ]
  },
  {
   "cell_type": "code",
   "execution_count": null,
   "id": "76052b69-d671-4388-8851-3c7c9a157ad9",
   "metadata": {},
   "outputs": [],
   "source": []
  },
  {
   "cell_type": "code",
   "execution_count": null,
   "id": "3530a2f8-0642-42f4-a84e-90600e1cca7d",
   "metadata": {},
   "outputs": [],
   "source": []
  },
  {
   "cell_type": "code",
   "execution_count": null,
   "id": "8a5961fa-9be3-4074-9824-e86fcc6f22c2",
   "metadata": {},
   "outputs": [],
   "source": []
  }
 ],
 "metadata": {
  "kernelspec": {
   "display_name": "Python 3 (ipykernel)",
   "language": "python",
   "name": "python3"
  },
  "language_info": {
   "codemirror_mode": {
    "name": "ipython",
    "version": 3
   },
   "file_extension": ".py",
   "mimetype": "text/x-python",
   "name": "python",
   "nbconvert_exporter": "python",
   "pygments_lexer": "ipython3",
   "version": "3.10.12"
  }
 },
 "nbformat": 4,
 "nbformat_minor": 5
}
