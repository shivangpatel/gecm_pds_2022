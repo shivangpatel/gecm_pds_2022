{
 "cells": [
  {
   "cell_type": "code",
   "execution_count": null,
   "id": "f01a8f62-8947-4ca5-afbc-c75f985f0f0f",
   "metadata": {},
   "outputs": [],
   "source": []
  },
  {
   "cell_type": "code",
   "execution_count": null,
   "id": "3004be00-535e-4b15-9caa-f3cee26c3dbb",
   "metadata": {},
   "outputs": [],
   "source": []
  },
  {
   "cell_type": "code",
   "execution_count": 1,
   "id": "134cd066-9ad3-4ae3-b321-904411d88b33",
   "metadata": {
    "tags": []
   },
   "outputs": [
    {
     "ename": "TypeError",
     "evalue": "unsupported operand type(s) for -: 'builtin_function_or_method' and '_Helper'",
     "output_type": "error",
     "traceback": [
      "\u001b[0;31m---------------------------------------------------------------------------\u001b[0m",
      "\u001b[0;31mTypeError\u001b[0m                                 Traceback (most recent call last)",
      "\u001b[0;32m/tmp/ipykernel_22859/3923249468.py\u001b[0m in \u001b[0;36m<module>\u001b[0;34m\u001b[0m\n\u001b[0;32m----> 1\u001b[0;31m \u001b[0mprint\u001b[0m \u001b[0;34m-\u001b[0m\u001b[0mhelp\u001b[0m\u001b[0;34m\u001b[0m\u001b[0;34m\u001b[0m\u001b[0m\n\u001b[0m",
      "\u001b[0;31mTypeError\u001b[0m: unsupported operand type(s) for -: 'builtin_function_or_method' and '_Helper'"
     ]
    }
   ],
   "source": []
  },
  {
   "cell_type": "markdown",
   "id": "34e95616-5179-49af-8e2e-5b46d4064e1d",
   "metadata": {
    "tags": []
   },
   "source": [
    "# Getting Your Hands Dirty With Data:\n",
    "### Understanding the tools:"
   ]
  },
  {
   "cell_type": "markdown",
   "id": "04e7b1a8-77bf-47bb-ab20-9caecc04090f",
   "metadata": {},
   "source": [
    "1. Jupyter Console\n",
    "2. Interacting with screen text\n",
    "3. Changing the window appearance\n",
    "4. Getting Python Help\n",
    "5. Getting IPython Help\n",
    "6. Using magic functions,\n",
    "7. Discovering objects, \n",
    "8. Using Jupyter Notebook, \n",
    "9. Working with styles, \n",
    "10. Restarting the kernel, \n",
    "11. Restoring a checkpoint, \n",
    "12. Performing Multimedia and Graphic Integration - Embedding plots and other images, Loading examples from online sites, Obtaining online graphics and multimedia."
   ]
  },
  {
   "cell_type": "markdown",
   "id": "ed165fb0-2b35-496f-82e0-bd20de89679c",
   "metadata": {
    "tags": []
   },
   "source": [
    "**6. Magic Functions**\n",
    "\n",
    "To Jupyter users: Magics are specific to and provided by the IPython kernel. Whether Magics are available on a kernel is a decision that is made by the kernel developer on a per-kernel basis. To work properly, Magics must use a syntax element which is not valid in the underlying language. For example, the IPython kernel uses the % syntax element for Magics as % is not a valid unary operator in Python. However, % might have meaning in other languages.\n",
    "\n",
    "***1) Line Magics***      \n",
    "***2) Cell Magics***\n",
    "\n",
    "for more visit: [https://ipython.readthedocs.io/en/stable/interactive/magics.html#](https://ipython.readthedocs.io/en/stable/interactive/magics.html#)"
   ]
  },
  {
   "cell_type": "markdown",
   "id": "fff15cef-2e67-42ce-a646-d5c67a808f38",
   "metadata": {},
   "source": [
    "**Line Magic**"
   ]
  },
  {
   "cell_type": "markdown",
   "id": "998b8146-6e4c-4542-94de-2a6aec47d60c",
   "metadata": {
    "tags": []
   },
   "source": [
    " **%alias** - Define an alias for a system command."
   ]
  },
  {
   "cell_type": "code",
   "execution_count": 5,
   "id": "5735f390-5add-4dc0-a685-4c7bf8a8ee49",
   "metadata": {
    "tags": []
   },
   "outputs": [],
   "source": [
    "alias dog echo \"Input in brackets: <%l>\""
   ]
  },
  {
   "cell_type": "code",
   "execution_count": 6,
   "id": "d831ac67-326e-40f7-b700-83ceb91971d3",
   "metadata": {
    "tags": []
   },
   "outputs": [
    {
     "name": "stdout",
     "output_type": "stream",
     "text": [
      "Input in brackets: <hello world111>\n"
     ]
    }
   ],
   "source": [
    "dog hello world111"
   ]
  },
  {
   "cell_type": "code",
   "execution_count": 16,
   "id": "a25fa3cb-8647-45cc-b7b5-c1d50717a97c",
   "metadata": {
    "tags": []
   },
   "outputs": [],
   "source": [
    "alias parts echo first %s second %s"
   ]
  },
  {
   "cell_type": "code",
   "execution_count": 17,
   "id": "1df4f9d4-7621-42fd-b024-9b5e42052d15",
   "metadata": {
    "tags": []
   },
   "outputs": [
    {
     "name": "stdout",
     "output_type": "stream",
     "text": [
      "first A second B\n"
     ]
    }
   ],
   "source": [
    "%parts A B"
   ]
  },
  {
   "cell_type": "code",
   "execution_count": 7,
   "id": "4a9aabe4-787f-4975-9974-4523bc26b9fe",
   "metadata": {
    "tags": []
   },
   "outputs": [],
   "source": [
    "alias show echo"
   ]
  },
  {
   "cell_type": "code",
   "execution_count": 19,
   "id": "9243e831-dbf9-4777-90fc-f69adf4b03bf",
   "metadata": {
    "tags": []
   },
   "outputs": [],
   "source": [
    "PATH='A Python string'"
   ]
  },
  {
   "cell_type": "code",
   "execution_count": 20,
   "id": "caa0c89b-6c49-447a-ad73-08dbedf36a2e",
   "metadata": {
    "tags": []
   },
   "outputs": [
    {
     "name": "stdout",
     "output_type": "stream",
     "text": [
      "A Python string\n"
     ]
    }
   ],
   "source": [
    "show $PATH"
   ]
  },
  {
   "cell_type": "code",
   "execution_count": 8,
   "id": "9fcabf2a-af85-4172-91f9-b255e34bb035",
   "metadata": {
    "tags": []
   },
   "outputs": [
    {
     "data": {
      "text/plain": [
       "\u001b[0;31mRepr:\u001b[0m <alias cat for 'cat'>\n"
      ]
     },
     "metadata": {},
     "output_type": "display_data"
    }
   ],
   "source": [
    "#You can see the definition of alias by adding a question mark in the end\n",
    "\n",
    "cat?"
   ]
  },
  {
   "cell_type": "code",
   "execution_count": 9,
   "id": "d1e9cab3-93d9-415a-9e72-70959b8a8991",
   "metadata": {
    "tags": []
   },
   "outputs": [
    {
     "data": {
      "text/plain": [
       "\u001b[0;31mRepr:\u001b[0m <alias show for 'echo'>\n"
      ]
     },
     "metadata": {},
     "output_type": "display_data"
    }
   ],
   "source": [
    "show?"
   ]
  },
  {
   "cell_type": "markdown",
   "id": "a9887f9c-05c9-4b5c-8058-b2eea5bfa01e",
   "metadata": {},
   "source": [
    "**%alias_magic** - Create an alias for an existing line or cell magic."
   ]
  },
  {
   "cell_type": "code",
   "execution_count": 27,
   "id": "2ef98298-487a-464f-a230-d44eea01682e",
   "metadata": {
    "tags": []
   },
   "outputs": [
    {
     "name": "stdout",
     "output_type": "stream",
     "text": [
      "Created `%t` as an alias for `%timeit`.\n",
      "Created `%%t` as an alias for `%%timeit`.\n"
     ]
    }
   ],
   "source": [
    "%alias_magic t timeit"
   ]
  },
  {
   "cell_type": "code",
   "execution_count": 28,
   "id": "c6916a38-74e0-4b78-893c-5afe05f019d9",
   "metadata": {
    "tags": []
   },
   "outputs": [
    {
     "name": "stdout",
     "output_type": "stream",
     "text": [
      "162 ns ± 213 ns per loop (mean ± std. dev. of 7 runs, 1 loop each)\n"
     ]
    }
   ],
   "source": [
    "%t -n1 pass"
   ]
  },
  {
   "cell_type": "code",
   "execution_count": 29,
   "id": "64942bdd-87ae-4564-a5a9-038de4286999",
   "metadata": {
    "tags": []
   },
   "outputs": [
    {
     "name": "stdout",
     "output_type": "stream",
     "text": [
      "159 ns ± 102 ns per loop (mean ± std. dev. of 7 runs, 1 loop each)\n"
     ]
    }
   ],
   "source": [
    "%%t -n1\n",
    "pass"
   ]
  },
  {
   "cell_type": "markdown",
   "id": "95194fd7-795b-423a-b7dc-5e188587892d",
   "metadata": {},
   "source": [
    "**%debug** - Activate the interactive debugger."
   ]
  },
  {
   "cell_type": "code",
   "execution_count": 12,
   "id": "25f6b852-882b-48a2-8cbd-a37482414c7a",
   "metadata": {
    "tags": []
   },
   "outputs": [],
   "source": [
    "def f1(x,y):\n",
    "    x += 1\n",
    "    x += y\n",
    "    \n",
    "    return x"
   ]
  },
  {
   "cell_type": "code",
   "execution_count": 13,
   "id": "61dd50d5-f8db-49d2-9535-5fcadd6f3b6e",
   "metadata": {
    "tags": []
   },
   "outputs": [
    {
     "name": "stdout",
     "output_type": "stream",
     "text": [
      "> \u001b[0;32m/tmp/ipykernel_22859/3293439622.py\u001b[0m(3)\u001b[0;36m<module>\u001b[0;34m()\u001b[0m\n",
      "\u001b[0;32m      1 \u001b[0;31m\u001b[0mget_ipython\u001b[0m\u001b[0;34m(\u001b[0m\u001b[0;34m)\u001b[0m\u001b[0;34m.\u001b[0m\u001b[0mrun_line_magic\u001b[0m\u001b[0;34m(\u001b[0m\u001b[0;34m'debug'\u001b[0m\u001b[0;34m,\u001b[0m \u001b[0;34m''\u001b[0m\u001b[0;34m)\u001b[0m\u001b[0;34m\u001b[0m\u001b[0;34m\u001b[0m\u001b[0m\n",
      "\u001b[0m\u001b[0;32m      2 \u001b[0;31m\u001b[0;34m\u001b[0m\u001b[0m\n",
      "\u001b[0m\u001b[0;32m----> 3 \u001b[0;31m\u001b[0mf1\u001b[0m\u001b[0;34m(\u001b[0m\u001b[0;36m1\u001b[0m\u001b[0;34m,\u001b[0m\u001b[0;36m3\u001b[0m\u001b[0;34m)\u001b[0m\u001b[0;34m\u001b[0m\u001b[0;34m\u001b[0m\u001b[0m\n",
      "\u001b[0m\n"
     ]
    },
    {
     "name": "stdin",
     "output_type": "stream",
     "text": [
      "ipdb>  s\n"
     ]
    },
    {
     "data": {
      "text/plain": [
       "5"
      ]
     },
     "execution_count": 13,
     "metadata": {},
     "output_type": "execute_result"
    }
   ],
   "source": [
    "%debug\n",
    "\n",
    "f1(1,3)"
   ]
  },
  {
   "cell_type": "markdown",
   "id": "f06bcb59-ca2a-4f18-bec0-afdaa20a9932",
   "metadata": {},
   "source": []
  },
  {
   "cell_type": "markdown",
   "id": "d29b0b8e-d352-433a-afb7-2e7e66da5abc",
   "metadata": {},
   "source": [
    "**Cell Magic**"
   ]
  },
  {
   "cell_type": "markdown",
   "id": "bd63cf07-e325-47b2-96e6-36d5e1d53a92",
   "metadata": {},
   "source": [
    "**%%bash** - Run cells with bash in a subprocess."
   ]
  },
  {
   "cell_type": "code",
   "execution_count": 41,
   "id": "89308f65-476a-40d9-9f7b-ff21efee350e",
   "metadata": {
    "tags": []
   },
   "outputs": [
    {
     "name": "stdout",
     "output_type": "stream",
     "text": [
      "book.xml\n",
      "Colors.txt\n",
      "movies.xml\n",
      "unit3.ipynb\n"
     ]
    }
   ],
   "source": [
    "%%bash\n",
    "\n",
    "ls"
   ]
  },
  {
   "cell_type": "markdown",
   "id": "91492aa1-5ba8-4b81-92e7-7ffe0ea29a59",
   "metadata": {},
   "source": [
    "**%%html** - Render the cell as a block of HTML"
   ]
  },
  {
   "cell_type": "code",
   "execution_count": 44,
   "id": "5b9335c0-0e85-481b-8ba2-2176c6272a4a",
   "metadata": {
    "tags": []
   },
   "outputs": [
    {
     "data": {
      "text/html": [
       "\n",
       "<h1 style=\"color: #e91f4d; font-size:3em;\">Hello World...</h1>\n"
      ],
      "text/plain": [
       "<IPython.core.display.HTML object>"
      ]
     },
     "metadata": {},
     "output_type": "display_data"
    }
   ],
   "source": [
    "%%html\n",
    "\n",
    "<h1 style=\"color: #e91f4d; font-size:3em;\">Hello World...</h1>"
   ]
  },
  {
   "cell_type": "markdown",
   "id": "c53bf1e9-0636-48f2-a775-c1276169740d",
   "metadata": {},
   "source": [
    "**%%writefile** - Write the contents of the cell to a file."
   ]
  },
  {
   "cell_type": "code",
   "execution_count": 14,
   "id": "3c0c2bab-d098-456b-af88-e7f04bc55c20",
   "metadata": {
    "tags": []
   },
   "outputs": [
    {
     "name": "stdout",
     "output_type": "stream",
     "text": [
      "Writing g.py\n"
     ]
    }
   ],
   "source": [
    "%%writefile -a g.py\n",
    "\n",
    "    model = Net()\n",
    "    model = model.float()\n",
    "    model.load_state_dict(state_dict)\n",
    "    model = model.to('cpu')\n",
    "    model = model.eval()\n",
    "    obs = tensor(obs['board']).reshape(1, 1, config.rows, config.columns).float()\n",
    "    obs = obs / 2\n",
    "    action = model(obs)\n",
    "    return int(action)\n"
   ]
  },
  {
   "cell_type": "markdown",
   "id": "fd21217f-416d-4b69-a13c-d7db635ab54d",
   "metadata": {},
   "source": [
    "Performing Multimedia and Graphic Integration - Embedding plots and other images, Loading examples from online sites, Obtaining online graphics and multimedia."
   ]
  },
  {
   "cell_type": "code",
   "execution_count": 47,
   "id": "06edbbcf-e0d0-4aa1-a7cd-27a534460f4f",
   "metadata": {
    "tags": []
   },
   "outputs": [
    {
     "data": {
      "image/png": "[encoded data removed]",
      "text/plain": [
       "<Figure size 432x288 with 1 Axes>"
      ]
     },
     "metadata": {
      "needs_background": "light"
     },
     "output_type": "display_data"
    }
   ],
   "source": [
    "# importing matplotlib module\n",
    "from matplotlib import pyplot as plt\n",
    "\n",
    "# x-axis values\n",
    "x = [5, 2, 9, 4, 7]\n",
    "\n",
    "# Y-axis values\n",
    "y = [10, 5, 8, 4, 2]\n",
    "\n",
    "# Function to plot\n",
    "# plt.plot(x, y)\n",
    "plt.bar(x, y)\n",
    "\n",
    "# function to show the plot\n",
    "plt.show()\n"
   ]
  },
  {
   "cell_type": "code",
   "execution_count": 48,
   "id": "0858bfb5-d962-42c3-ba00-74ac0fb8c83e",
   "metadata": {
    "tags": []
   },
   "outputs": [
    {
     "data": {
      "image/png": "[encoded data removed]",
      "text/plain": [
       "<Figure size 432x288 with 1 Axes>"
      ]
     },
     "metadata": {
      "needs_background": "light"
     },
     "output_type": "display_data"
    },
    {
     "data": {
      "image/png": "[encoded data removed]",
      "text/plain": [
       "<Figure size 432x288 with 1 Axes>"
      ]
     },
     "metadata": {
      "needs_background": "light"
     },
     "output_type": "display_data"
    }
   ],
   "source": [
    "from matplotlib import pyplot as plt\n",
    " \n",
    " \n",
    "x = [1, 2, 3, 4, 5]\n",
    "y = [1, 4, 9, 16, 25]\n",
    "plt.scatter(x, y)\n",
    " \n",
    "# function to show the plot\n",
    "plt.show()\n",
    " \n",
    "plt.plot(x, y)\n",
    " \n",
    "# function to show the plot\n",
    "plt.show()"
   ]
  },
  {
   "cell_type": "code",
   "execution_count": 53,
   "id": "4cf97150-46b4-4c04-b771-c24f9bc42d94",
   "metadata": {
    "tags": []
   },
   "outputs": [
    {
     "data": {
      "text/html": [
       "<img src=\"mendeley.jpeg\" width=\"100\"/>"
      ],
      "text/plain": [
       "<IPython.core.display.Image object>"
      ]
     },
     "execution_count": 53,
     "metadata": {},
     "output_type": "execute_result"
    }
   ],
   "source": [
    "# import image module\n",
    "from IPython.display import Image\n",
    "\n",
    "# get the image\n",
    "Image(url=\"mendeley.jpeg\", width=100)\n"
   ]
  },
  {
   "cell_type": "code",
   "execution_count": 56,
   "id": "f2ea6968-4976-47f4-b717-741b42e41c24",
   "metadata": {
    "tags": []
   },
   "outputs": [
    {
     "data": {
      "image/jpeg": "[encoded data removed]",
      "text/plain": [
       "<IPython.core.display.Image object>"
      ]
     },
     "execution_count": 56,
     "metadata": {},
     "output_type": "execute_result"
    }
   ],
   "source": [
    "from IPython import display\n",
    "# display.Image(\"https://cdn.eso.org/images/screen/eso0932a.jpg\", width=700)\n",
    "display.Image(\"https://cdn.eso.org/images/screen/eso0932a.jpg\")"
   ]
  },
  {
   "cell_type": "code",
   "execution_count": null,
   "id": "762b86fe-bd41-4b57-ade7-f0b58d6f8e19",
   "metadata": {},
   "outputs": [],
   "source": []
  },
  {
   "cell_type": "code",
   "execution_count": null,
   "id": "f6187ab2-5fc5-4ecd-b51e-b2ef10d2c322",
   "metadata": {},
   "outputs": [],
   "source": []
  },
  {
   "cell_type": "markdown",
   "id": "3415f5f5-8009-438e-98bc-440b4ea59e13",
   "metadata": {
    "tags": []
   },
   "source": [
    "# Getting Your Hands Dirty With Data:\n",
    "### Working with Real Data:\n",
    "\n",
    "1. Uploading, Streaming, and Sampling Data, \n",
    "2. Uploading small amounts of data into memory, \n",
    "3. Streaming large amounts of data into memory, \n",
    "4. Generating variations on image data, \n",
    "5. Sampling data in different ways, \n",
    "6. Accessing Data in Structured Flat-File Form ,Reading from a text file Reading CSV delimited format, Reading Excel and other Microsoft Office files, \n",
    "7. Sending Data in Unstructured File Form, \n",
    "8. Managing Data from Relational Databases, Interacting with Data from NoSQL Databases, Accessing Data from the Web."
   ]
  },
  {
   "cell_type": "markdown",
   "id": "f2b19f26-4e91-4172-98f7-ebbc3b27e282",
   "metadata": {},
   "source": [
    "# CRUD - CREATE, READ, UPDATE, DELETE"
   ]
  },
  {
   "cell_type": "markdown",
   "id": "5f8260ca-51db-4372-8815-90280b12437a",
   "metadata": {},
   "source": [
    "**MYSql**"
   ]
  },
  {
   "cell_type": "markdown",
   "id": "7dc0a9dc-72e2-43c2-b880-4c4f0eb5d1a0",
   "metadata": {},
   "source": [
    "**create a Database**"
   ]
  },
  {
   "cell_type": "code",
   "execution_count": 1,
   "id": "62055f0a-866f-49fd-bad3-90872085248f",
   "metadata": {},
   "outputs": [
    {
     "name": "stdout",
     "output_type": "stream",
     "text": [
      "('employee_db',)\n",
      "('employee_db1',)\n",
      "('information_schema',)\n",
      "('mysql',)\n",
      "('pds',)\n",
      "('performance_schema',)\n",
      "('sys',)\n",
      "('tee',)\n",
      "('tnpapp',)\n"
     ]
    }
   ],
   "source": [
    "# Python implementation to create a Database in MySQL\n",
    "import mysql.connector\n",
    " \n",
    "# connecting to the mysql server\n",
    "db = mysql.connector.connect(\n",
    "    host=\"localhost\",\n",
    "    user=\"root\",\n",
    "    passwd=\"root\"\n",
    ")\n",
    " \n",
    "# cursor object c\n",
    "c = db.cursor()\n",
    " \n",
    "# executing the create database statement\n",
    "c.execute(\"CREATE DATABASE employee_db1\")\n",
    " \n",
    "# fetching all the databases\n",
    "c.execute(\"SHOW DATABASES\")\n",
    " \n",
    "# printing all the databases\n",
    "for i in c:\n",
    "    print(i)\n",
    "c = db.cursor()\n",
    " \n",
    "# finally closing the database connection\n",
    "db.close()"
   ]
  },
  {
   "cell_type": "markdown",
   "id": "846e24b1-0827-4d6e-bc80-f3c9c1f1395b",
   "metadata": {},
   "source": [
    "**Creating Table**"
   ]
  },
  {
   "cell_type": "code",
   "execution_count": 2,
   "id": "d2924870-7191-4baf-a5d7-6ba5c3505ceb",
   "metadata": {},
   "outputs": [
    {
     "name": "stdout",
     "output_type": "stream",
     "text": [
      "('empid', b'int', 'NO', 'PRI', None, 'auto_increment')\n",
      "('empname', b'varchar(45)', 'YES', '', None, '')\n",
      "('department', b'varchar(45)', 'YES', '', None, '')\n",
      "('salary', b'int', 'YES', '', None, '')\n"
     ]
    }
   ],
   "source": [
    "# Python implementation to create a table in MySQL\n",
    "import mysql.connector\n",
    "\n",
    "# connecting to the mysql server\n",
    "\n",
    "db = mysql.connector.connect(\n",
    "\thost=\"localhost\",\n",
    "\tuser=\"root\",\n",
    "\tpasswd=\"root\",\n",
    "\tdatabase=\"employee_db\"\n",
    ")\n",
    "\n",
    "# cursor object c\n",
    "c = db.cursor()\n",
    "\n",
    "# create statement for tblemployee\n",
    "employeetbl_create = \"\"\"CREATE TABLE `employee_db1`.`tblemployee` (\n",
    "`empid` INT NOT NULL AUTO_INCREMENT,\n",
    "`empname` VARCHAR(45) NULL,\n",
    "`department` VARCHAR(45) NULL,\n",
    "`salary` INT NULL,\n",
    "PRIMARY KEY (`empid`))\"\"\"\n",
    "\n",
    "c.execute(employeetbl_create)\n",
    "\n",
    "c = db.cursor()\n",
    "\n",
    "# fetch tblemployee details in the database\n",
    "c.execute(\"desc tblemployee\")\n",
    "\n",
    "# print the table details\n",
    "for i in c:\n",
    "\tprint(i)\n",
    "\n",
    "\n",
    "# finally closing the database connection\n",
    "db.close()\n"
   ]
  },
  {
   "cell_type": "markdown",
   "id": "21132da6-98c4-4d36-a7ee-f5dfb86c1760",
   "metadata": {},
   "source": [
    "**Inserting Data**"
   ]
  },
  {
   "cell_type": "code",
   "execution_count": 4,
   "id": "dfe58cdf-cfe5-4d0f-86be-3022a2ec0987",
   "metadata": {},
   "outputs": [],
   "source": [
    "# Python implementation to insert data into a table in MySQL\n",
    "import mysql.connector\n",
    "\n",
    "# connecting to the mysql server\n",
    "\n",
    "db = mysql.connector.connect(\n",
    "\thost=\"localhost\",\n",
    "\tuser=\"root\",\n",
    "\tpasswd=\"root\",\n",
    "\tdatabase=\"employee_db\"\n",
    ")\n",
    "\n",
    "# cursor object c\n",
    "c = db.cursor()\n",
    "\n",
    "# insert statement for tblemployee\n",
    "# this statement will enable us to insert multiple rows at once.\n",
    "employeetbl_insert = \"\"\"INSERT INTO tblemployee (\n",
    "empname,\n",
    "department,\n",
    "salary)\n",
    "VALUES (%s, %s, %s)\"\"\"\n",
    "\n",
    "# we save all the row data to be inserted in a data variable\n",
    "data = [(\"Vani\", \"HR\", \"100000\"),\n",
    "\t\t(\"Krish\", \"Accounts\", \"60000\"),\n",
    "\t\t(\"Aishwarya\", \"Sales\", \"25000\"),\n",
    "\t\t(\"Govind\", \"Marketing\", \"40000\")]\n",
    "\n",
    "# execute the insert commands for all rows and commit to the database\n",
    "c.executemany(employeetbl_insert, data)\n",
    "db.commit()\n",
    "\n",
    "# finally closing the database connection\n",
    "db.close()\n"
   ]
  },
  {
   "cell_type": "markdown",
   "id": "8e2f432b-f579-479d-b59f-88fb9ff97b62",
   "metadata": {},
   "source": [
    "**Reading / Selecting Data**"
   ]
  },
  {
   "cell_type": "code",
   "execution_count": 6,
   "id": "4f4a2b19-824b-4e07-a6b9-6bb643f0ded4",
   "metadata": {},
   "outputs": [
    {
     "name": "stdout",
     "output_type": "stream",
     "text": [
      "(1, 'Vani', 'HR', 100000)\n",
      "(2, 'Krish', 'Accounts', 60000)\n",
      "(3, 'Aishwarya', 'Sales', 25000)\n",
      "(4, 'Govind', 'Marketing', 40000)\n"
     ]
    }
   ],
   "source": [
    "# Python implementation to fetch data from a table in MySQL\n",
    "import mysql.connector\n",
    "\n",
    "# connecting to the mysql server\n",
    "\n",
    "db = mysql.connector.connect(\n",
    "\thost=\"localhost\",\n",
    "\tuser=\"root\",\n",
    "\tpasswd=\"root\",\n",
    "\tdatabase=\"employee_db\"\n",
    ")\n",
    "\n",
    "# cursor object c\n",
    "c = db.cursor()\n",
    "\n",
    "# select statement for tblemployee which returns all columns\n",
    "employeetbl_select = \"\"\"SELECT * FROM tblemployee\"\"\"\n",
    "\n",
    "# execute the select query to fetch all rows\n",
    "c.execute(employeetbl_select)\n",
    "\n",
    "# fetch all the data returned by the database\n",
    "employee_data = c.fetchall()\n",
    "\n",
    "# print all the data returned by the database\n",
    "for e in employee_data:\n",
    "\tprint(e)\n",
    "\n",
    "# finally closing the database connection\n",
    "db.close()\n"
   ]
  },
  {
   "cell_type": "markdown",
   "id": "4c16d264-b4ba-4711-947e-58345197e58b",
   "metadata": {},
   "source": [
    "**Updating Data**"
   ]
  },
  {
   "cell_type": "code",
   "execution_count": 10,
   "id": "3c23bc9a-feac-402c-9f64-d2e6dd945e49",
   "metadata": {},
   "outputs": [],
   "source": [
    "# Python implementation to update data of a table in MySQL\n",
    "import mysql.connector\n",
    "\n",
    "# connecting to the mysql server\n",
    "\n",
    "db = mysql.connector.connect(\n",
    "\thost=\"localhost\",\n",
    "\tuser=\"root\",\n",
    "\tpasswd=\"root\",\n",
    "\tdatabase=\"employee_db\"\n",
    ")\n",
    "\n",
    "# cursor object c\n",
    "c = db.cursor()\n",
    "\n",
    "# update statement for tblemployee\n",
    "# which modifies the salary of Vani\n",
    "employeetbl_update = \"UPDATE tblemployee SET salary = 115000 WHERE empid = 1\"\n",
    "\n",
    "# execute the update query to modify\n",
    "# the salary of employee with\n",
    "# employee id = 1 and commit to the database\n",
    "c.execute(employeetbl_update)\n",
    "db.commit()\n",
    "\n",
    "# finally closing the database connection\n",
    "db.close()\n",
    "\n"
   ]
  },
  {
   "cell_type": "markdown",
   "id": "392fe7b4-1a66-4b11-95fa-e373a9681a20",
   "metadata": {},
   "source": [
    "**Deleting Data**"
   ]
  },
  {
   "cell_type": "code",
   "execution_count": 11,
   "id": "559a1870-cabe-4dbf-8c8c-147b45c1abfa",
   "metadata": {
    "tags": []
   },
   "outputs": [],
   "source": [
    "import mysql.connector\n",
    "\n",
    "# connecting to the mysql server\n",
    "\n",
    "db = mysql.connector.connect(\n",
    "\thost=\"localhost\",\n",
    "\tuser=\"root\",\n",
    "\tpasswd=\"root\",\n",
    "\tdatabase=\"employee_db\"\n",
    ")\n",
    "\n",
    "# cursor object c\n",
    "c = db.cursor()\n",
    "\n",
    "# delete statement for tblemployee\n",
    "# which deletes employee Aishwarya having empid 3\n",
    "employeetbl_delete = \"DELETE FROM tblemployee WHERE empid=3\"\n",
    "\n",
    "# execute the delete statement and commit to the database\n",
    "c.execute(employeetbl_delete)\n",
    "db.commit()\n",
    "\n",
    "# finally closing the database connection\n",
    "db.close()\n"
   ]
  },
  {
   "cell_type": "markdown",
   "id": "e9af0d53-8654-40b7-8ed3-6d3ac0027553",
   "metadata": {},
   "source": [
    "**_Home Work: Go for Where, Order by, limit, join clause_**"
   ]
  },
  {
   "cell_type": "markdown",
   "id": "71177488-4770-4330-b507-1513803be398",
   "metadata": {},
   "source": [
    "**MongoDB**"
   ]
  },
  {
   "cell_type": "code",
   "execution_count": 12,
   "id": "c0e39877-4aaf-4123-827a-0bac9d902960",
   "metadata": {
    "tags": []
   },
   "outputs": [
    {
     "name": "stdout",
     "output_type": "stream",
     "text": [
      "Defaulting to user installation because normal site-packages is not writeable\n",
      "Collecting pymongo\n",
      "  Downloading pymongo-4.5.0-cp310-cp310-manylinux_2_17_x86_64.manylinux2014_x86_64.whl (671 kB)\n",
      "\u001b[2K     \u001b[38;2;114;156;31m━━━━━━━━━━━━━━━━━━━━━━━━━━━━━━━━━━━━━━━\u001b[0m \u001b[32m671.3/671.3 KB\u001b[0m \u001b[31m6.0 MB/s\u001b[0m eta \u001b[36m0:00:00\u001b[0mm eta \u001b[36m0:00:01\u001b[0m0:01\u001b[0m:01\u001b[0m\n",
      "\u001b[?25hRequirement already satisfied: dnspython<3.0.0,>=1.16.0 in /usr/lib/python3/dist-packages (from pymongo) (2.1.0)\n",
      "Installing collected packages: pymongo\n",
      "Successfully installed pymongo-4.5.0\n",
      "Note: you may need to restart the kernel to use updated packages.\n"
     ]
    }
   ],
   "source": [
    "pip install pymongo"
   ]
  },
  {
   "cell_type": "code",
   "execution_count": 3,
   "id": "6547555f-1e5c-46ab-a888-bb460842271e",
   "metadata": {
    "tags": []
   },
   "outputs": [],
   "source": [
    ">>> from pymongo import MongoClient\n",
    ">>> client = MongoClient('localhost',27017)  # 27017 is the default port number for mongodb"
   ]
  },
  {
   "cell_type": "code",
   "execution_count": 4,
   "id": "03cfd006-caeb-4e5e-a76e-00823dc2d45e",
   "metadata": {
    "tags": []
   },
   "outputs": [
    {
     "data": {
      "text/plain": [
       "['admin', 'config', 'local', 'pds', 'student_database']"
      ]
     },
     "execution_count": 4,
     "metadata": {},
     "output_type": "execute_result"
    }
   ],
   "source": [
    "client.list_database_names()"
   ]
  },
  {
   "cell_type": "code",
   "execution_count": 5,
   "id": "7d66a263-ff3f-423c-a73c-96e60ccd102f",
   "metadata": {
    "tags": []
   },
   "outputs": [],
   "source": [
    "student_db = client[\"student_database11\"]"
   ]
  },
  {
   "cell_type": "code",
   "execution_count": 6,
   "id": "72a1aac7-6334-43a5-bf04-c058106f893e",
   "metadata": {
    "tags": []
   },
   "outputs": [],
   "source": [
    "collection=student_db[\"computer science\"]"
   ]
  },
  {
   "cell_type": "code",
   "execution_count": 7,
   "id": "f11ba0e0-d44b-4450-95ef-65ef85ffe4c5",
   "metadata": {
    "tags": []
   },
   "outputs": [
    {
     "data": {
      "text/plain": [
       "[]"
      ]
     },
     "execution_count": 7,
     "metadata": {},
     "output_type": "execute_result"
    }
   ],
   "source": [
    "student_db.list_collection_names()"
   ]
  },
  {
   "cell_type": "code",
   "execution_count": 8,
   "id": "cdf60650-7782-455a-ac60-19f0f71203ad",
   "metadata": {
    "tags": []
   },
   "outputs": [
    {
     "data": {
      "text/plain": [
       "<pymongo.results.InsertOneResult at 0x7fe91c053a60>"
      ]
     },
     "execution_count": 8,
     "metadata": {},
     "output_type": "execute_result"
    }
   ],
   "source": [
    "document={\"Name\":\"Raj\", \"Roll No \":  153, \"Branch \": \"CSE\"}\n",
    "collection.insert_one(document)"
   ]
  },
  {
   "cell_type": "code",
   "execution_count": 9,
   "id": "d9e85b0f-b49d-41bb-87ff-13d413c1f6d8",
   "metadata": {
    "tags": []
   },
   "outputs": [
    {
     "data": {
      "text/plain": [
       "<pymongo.results.InsertManyResult at 0x7fe91c589090>"
      ]
     },
     "execution_count": 9,
     "metadata": {},
     "output_type": "execute_result"
    }
   ],
   "source": [
    "documents=[{\"Name\":\"Roshan\",\"Roll No\":159,\"Branch\":\"CSE\"},\n",
    "           {\"Name\":\"Rahim\",\"Roll No\":155,\"Branch\":\"CSE\"},\n",
    "           {\"Name\":\"Ronak\",\"Roll No\":156,\"Branch\":\"CSE\"}]\n",
    "collection.insert_many(documents)"
   ]
  },
  {
   "cell_type": "code",
   "execution_count": 10,
   "id": "c810651b-ba2f-42d7-90ea-b14d2cea78fd",
   "metadata": {
    "tags": []
   },
   "outputs": [
    {
     "data": {
      "text/plain": [
       "['computer science']"
      ]
     },
     "execution_count": 10,
     "metadata": {},
     "output_type": "execute_result"
    }
   ],
   "source": [
    "student_db.list_collection_names()"
   ]
  },
  {
   "cell_type": "markdown",
   "id": "5e7a69f6-9f87-42a7-bc4f-0768163aec3f",
   "metadata": {},
   "source": [
    "**Retrieving the data from the collection**"
   ]
  },
  {
   "cell_type": "code",
   "execution_count": 13,
   "id": "896e6cbd-8445-453e-81c8-8cbf9b86a4b0",
   "metadata": {
    "tags": []
   },
   "outputs": [
    {
     "name": "stdout",
     "output_type": "stream",
     "text": [
      "{'_id': ObjectId('65002df4e4447ee253daa48b'), 'Name': 'Roshan', 'Roll No': 159, 'Branch': 'CSE'}\n"
     ]
    }
   ],
   "source": [
    "# query={\"Name\":\"Raj\"}\n",
    "query={\"Branch\":\"CSE\"}\n",
    "print(collection.find_one(query))"
   ]
  },
  {
   "cell_type": "code",
   "execution_count": 14,
   "id": "d5326172-0f5e-45d6-91bb-accf62c9eb12",
   "metadata": {
    "tags": []
   },
   "outputs": [
    {
     "name": "stdout",
     "output_type": "stream",
     "text": [
      "{'_id': ObjectId('65002df4e4447ee253daa48b'), 'Name': 'Roshan', 'Roll No': 159, 'Branch': 'CSE'}\n",
      "{'_id': ObjectId('65002df4e4447ee253daa48c'), 'Name': 'Rahim', 'Roll No': 155, 'Branch': 'CSE'}\n",
      "{'_id': ObjectId('65002df4e4447ee253daa48d'), 'Name': 'Ronak', 'Roll No': 156, 'Branch': 'CSE'}\n"
     ]
    }
   ],
   "source": [
    "query={\"Branch\":\"CSE\"}\n",
    "result=collection.find(query)\n",
    "\n",
    "for i in result:\n",
    "    print(i)"
   ]
  },
  {
   "cell_type": "code",
   "execution_count": 47,
   "id": "ef0441ba-3ddf-4264-81a1-43604e36fb29",
   "metadata": {
    "tags": []
   },
   "outputs": [
    {
     "name": "stdout",
     "output_type": "stream",
     "text": [
      "{'_id': ObjectId('64ff56e78979de5434a0eb62'), 'Name': 'Raj', 'Roll No ': 153, 'Branch ': 'CSE'}\n",
      "{'_id': ObjectId('64ff57388979de5434a0eb63'), 'Name': 'Raj', 'Roll No ': 153, 'Branch ': 'CSE'}\n"
     ]
    }
   ],
   "source": [
    "result=collection.find({}).limit(2)\n",
    "\n",
    "for i in result:\n",
    "    print(i)"
   ]
  },
  {
   "cell_type": "code",
   "execution_count": 58,
   "id": "6952c5f3-ffa1-411c-8800-1f84ae9154f0",
   "metadata": {
    "tags": []
   },
   "outputs": [
    {
     "name": "stdout",
     "output_type": "stream",
     "text": [
      "{'_id': ObjectId('64ff56e78979de5434a0eb62'), 'Name': 'Raj', 'Roll No ': 153, 'Branch ': 'CSE'}\n"
     ]
    }
   ],
   "source": [
    "#You can filter the query using query operators such as gt, lt, eq etc.,\n",
    "query={\"Roll No \":{\"$eq\":153}}\n",
    "print(collection.find_one(query))"
   ]
  },
  {
   "cell_type": "markdown",
   "id": "8f2ca5c3-b97c-4173-962a-20fdcba1348b",
   "metadata": {},
   "source": [
    "**Updating the documents in the collection**"
   ]
  },
  {
   "cell_type": "code",
   "execution_count": 64,
   "id": "533512ff-74ea-4238-929a-2907da6865c1",
   "metadata": {
    "tags": []
   },
   "outputs": [
    {
     "data": {
      "text/plain": [
       "{'_id': ObjectId('64ff56e78979de5434a0eb62'),\n",
       " 'Name': 'Ramesh',\n",
       " 'Roll No ': 153,\n",
       " 'Branch ': 'CSE'}"
      ]
     },
     "execution_count": 64,
     "metadata": {},
     "output_type": "execute_result"
    }
   ],
   "source": [
    "query={\"Roll No \":{\"$eq\":153}}\n",
    "present_data = collection.find_one(query)\n",
    "new_data={'$set':{\"Name\":'Ramesh'}}\n",
    "collection.update_one(present_data,new_data)\n",
    "\n",
    "collection.find_one(query)"
   ]
  },
  {
   "cell_type": "code",
   "execution_count": 66,
   "id": "c28dcd03-b524-476f-9834-dedbd1595dcc",
   "metadata": {
    "tags": []
   },
   "outputs": [
    {
     "data": {
      "text/plain": [
       "<pymongo.results.UpdateResult at 0x7fbc2615fe80>"
      ]
     },
     "execution_count": 66,
     "metadata": {},
     "output_type": "execute_result"
    }
   ],
   "source": [
    "present_data={\"Branch\":\"CSE\"}\n",
    "new_data={\"$set\":{\"Branch\":\"ECE\"}}\n",
    "collection.update_many(present_data,new_data)"
   ]
  },
  {
   "cell_type": "code",
   "execution_count": 68,
   "id": "533f17ae-5415-43a0-9255-4b6794d59e40",
   "metadata": {
    "tags": []
   },
   "outputs": [
    {
     "name": "stdout",
     "output_type": "stream",
     "text": [
      "{'_id': ObjectId('64ff57398979de5434a0eb64'), 'Name': 'Roshan', 'Roll No': 159, 'Branch': 'ECE'}\n",
      "{'_id': ObjectId('64ff57398979de5434a0eb65'), 'Name': 'Rahim', 'Roll No': 155, 'Branch': 'ECE'}\n",
      "{'_id': ObjectId('64ff57398979de5434a0eb66'), 'Name': 'Ronak', 'Roll No': 156, 'Branch': 'ECE'}\n"
     ]
    }
   ],
   "source": [
    "query={\"Branch\":\"ECE\"}\n",
    "result=collection.find(query)\n",
    "\n",
    "for i in result:\n",
    "    print(i)"
   ]
  },
  {
   "cell_type": "markdown",
   "id": "cf050b43-e205-45e5-8bce-fde543e9a9f8",
   "metadata": {
    "tags": []
   },
   "source": [
    "**Deleting documents from the collection**"
   ]
  },
  {
   "cell_type": "code",
   "execution_count": 71,
   "id": "1d75f4f3-bf94-479a-8999-80a4f6659af0",
   "metadata": {
    "tags": []
   },
   "outputs": [
    {
     "data": {
      "text/plain": [
       "<pymongo.results.DeleteResult at 0x7fbc25a29240>"
      ]
     },
     "execution_count": 71,
     "metadata": {},
     "output_type": "execute_result"
    }
   ],
   "source": [
    "query={\"Roll No\":153}\n",
    "collection.delete_one(query)"
   ]
  },
  {
   "cell_type": "code",
   "execution_count": 72,
   "id": "d141f8d9-8e95-4b7e-b093-06d7eded5f65",
   "metadata": {
    "tags": []
   },
   "outputs": [
    {
     "data": {
      "text/plain": [
       "<pymongo.results.DeleteResult at 0x7fbc25a2b0d0>"
      ]
     },
     "execution_count": 72,
     "metadata": {},
     "output_type": "execute_result"
    }
   ],
   "source": [
    "query={\"Branch\":\"ECE\"}\n",
    "collection.delete_many(query)"
   ]
  },
  {
   "cell_type": "code",
   "execution_count": 73,
   "id": "05f2003a-cf09-42f0-b165-977c3bda0117",
   "metadata": {
    "tags": []
   },
   "outputs": [],
   "source": [
    "# collection.drop()"
   ]
  },
  {
   "cell_type": "code",
   "execution_count": null,
   "id": "a632ad84-105b-4109-83cb-b924233fb987",
   "metadata": {},
   "outputs": [],
   "source": []
  },
  {
   "cell_type": "markdown",
   "id": "8b63396e-9303-435e-be92-11f53d65f43b",
   "metadata": {},
   "source": [
    "**Slicing and Dicing: Filtering\n",
    "and Selecting Data**\n",
    "\n",
    "The act of slicing and dicing data, gives you a subset of the data suitable for\n",
    "analysis."
   ]
  },
  {
   "cell_type": "markdown",
   "id": "9feddd00-9b7b-425d-9183-49773f892fe3",
   "metadata": {},
   "source": [
    "Slicing rows"
   ]
  },
  {
   "cell_type": "code",
   "execution_count": 16,
   "id": "2fd84d2a-3473-4d19-b863-f6624fbd1517",
   "metadata": {
    "tags": []
   },
   "outputs": [],
   "source": [
    "import numpy as np"
   ]
  },
  {
   "cell_type": "code",
   "execution_count": 19,
   "id": "a40e28bd-6361-4cf3-a064-b7dc24b06eb0",
   "metadata": {},
   "outputs": [],
   "source": [
    "x = np.array([\n",
    "    [\n",
    "        [1, 2, 3], \n",
    "        [4, 5, 6], \n",
    "        [7, 8, 9],\n",
    "    ],\n",
    "    [\n",
    "        [11,12,13], \n",
    "        [14,15,16], \n",
    "        [17,18,19],\n",
    "    ],\n",
    "    [\n",
    "        [21,22,23], \n",
    "        [24,25,26], \n",
    "        [27,28,29]\n",
    "    ]\n",
    "])"
   ]
  },
  {
   "cell_type": "code",
   "execution_count": 18,
   "id": "ab569836-1f86-432a-957e-3b7473ab6b17",
   "metadata": {
    "tags": []
   },
   "outputs": [
    {
     "data": {
      "text/plain": [
       "array([[[ 1,  2,  3],\n",
       "        [ 4,  5,  6],\n",
       "        [ 7,  8,  9]],\n",
       "\n",
       "       [[11, 12, 13],\n",
       "        [14, 15, 16],\n",
       "        [17, 18, 19]],\n",
       "\n",
       "       [[21, 22, 23],\n",
       "        [24, 25, 26],\n",
       "        [27, 28, 29]]])"
      ]
     },
     "execution_count": 18,
     "metadata": {},
     "output_type": "execute_result"
    }
   ],
   "source": [
    "x"
   ]
  },
  {
   "cell_type": "code",
   "execution_count": 78,
   "id": "a1e240f1-e015-4096-aa67-27ef35bc877f",
   "metadata": {
    "tags": []
   },
   "outputs": [
    {
     "data": {
      "text/plain": [
       "array([[11, 12, 13],\n",
       "       [14, 15, 16],\n",
       "       [17, 18, 19]])"
      ]
     },
     "execution_count": 78,
     "metadata": {},
     "output_type": "execute_result"
    }
   ],
   "source": [
    "x[1]"
   ]
  },
  {
   "cell_type": "markdown",
   "id": "f6c52856-30f5-4db3-8818-b044abad5749",
   "metadata": {},
   "source": [
    "Slicing columnsm"
   ]
  },
  {
   "cell_type": "code",
   "execution_count": 79,
   "id": "a353f3ae-e09d-4be3-9e8b-a166047a26fa",
   "metadata": {
    "tags": []
   },
   "outputs": [
    {
     "data": {
      "text/plain": [
       "array([[ 4,  5,  6],\n",
       "       [14, 15, 16],\n",
       "       [24, 25, 26]])"
      ]
     },
     "execution_count": 79,
     "metadata": {},
     "output_type": "execute_result"
    }
   ],
   "source": [
    "x[:,1]"
   ]
  },
  {
   "cell_type": "markdown",
   "id": "234d5912-d695-489d-bc51-e96b92cdb103",
   "metadata": {},
   "source": [
    "Dicing\n",
    "\n",
    "The act of dicing a dataset means to perform both row and column slicing such that you end up with a data wedge.\n",
    "For example, when working with the 3D array, you might want to see the sales of a specific product in a specific location at any time."
   ]
  },
  {
   "cell_type": "code",
   "execution_count": null,
   "id": "3990ab85-32e4-4666-80c2-68c986332707",
   "metadata": {},
   "outputs": [],
   "source": [
    "The act of dicing a dataset means to perform both row and column slicing\n",
    "such that you end up with a data wedge."
   ]
  },
  {
   "cell_type": "code",
   "execution_count": 81,
   "id": "49fb687d-c90c-4ce3-bbab-a993d42c94fe",
   "metadata": {
    "tags": []
   },
   "outputs": [
    {
     "data": {
      "text/plain": [
       "array([14, 15, 16])"
      ]
     },
     "execution_count": 81,
     "metadata": {},
     "output_type": "execute_result"
    }
   ],
   "source": [
    "x[1,1]"
   ]
  },
  {
   "cell_type": "code",
   "execution_count": 83,
   "id": "fc4c53f8-f023-4223-b615-863dafc8a98f",
   "metadata": {
    "tags": []
   },
   "outputs": [
    {
     "data": {
      "text/plain": [
       "array([ 5, 15, 25])"
      ]
     },
     "execution_count": 83,
     "metadata": {},
     "output_type": "execute_result"
    }
   ],
   "source": [
    "x[:,1,1]"
   ]
  },
  {
   "cell_type": "code",
   "execution_count": 84,
   "id": "74b884b6-6629-4654-9748-40caf95cc5f6",
   "metadata": {
    "tags": []
   },
   "outputs": [
    {
     "data": {
      "text/plain": [
       "array([12, 15, 18])"
      ]
     },
     "execution_count": 84,
     "metadata": {},
     "output_type": "execute_result"
    }
   ],
   "source": [
    "x[1,:,1]"
   ]
  },
  {
   "cell_type": "code",
   "execution_count": 85,
   "id": "5984a6e0-5f10-47f5-aeac-5372e56f5b0d",
   "metadata": {
    "tags": []
   },
   "outputs": [
    {
     "data": {
      "text/plain": [
       "array([[[14, 15, 16]]])"
      ]
     },
     "execution_count": 85,
     "metadata": {},
     "output_type": "execute_result"
    }
   ],
   "source": [
    "x[1:2, 1:2]"
   ]
  },
  {
   "cell_type": "markdown",
   "id": "62cff4b8-ae7f-4412-84c5-9867c88c4e6e",
   "metadata": {},
   "source": [
    "**Concatenating and Transforming**\n",
    "\n",
    "_To make the data useful,\n",
    "you must create a single dataset (by concatenating, or combining, the data\n",
    "from various sources)._\n",
    "\n",
    "_Part of the process is to ensure that each field you create for the combined\n",
    "dataset has the same characteristics. For example, an age field in one data-\n",
    "base might appear as a string, but another database could use an integer for\n",
    "the same field. For the fields to work together, they must appear as the same\n",
    "type of information._"
   ]
  },
  {
   "cell_type": "code",
   "execution_count": 20,
   "id": "ebc1ef02-7d5e-4d86-a22f-e9edeced61ef",
   "metadata": {
    "tags": []
   },
   "outputs": [],
   "source": [
    "import pandas as pd"
   ]
  },
  {
   "cell_type": "code",
   "execution_count": 21,
   "id": "933ea217-defa-4c8e-bfeb-e80620915e2a",
   "metadata": {
    "tags": []
   },
   "outputs": [],
   "source": [
    "df = pd.DataFrame({'A': [2,3,1],\n",
    "'B': [1,2,3],\n",
    "'C': [5,3,4]})\n",
    "\n",
    "df1 = pd.DataFrame({'A': [4],\n",
    "'B': [4],\n",
    "'C': [4]})"
   ]
  },
  {
   "cell_type": "code",
   "execution_count": 114,
   "id": "b0384c15-547d-40b5-a11e-d29ccdd0d273",
   "metadata": {
    "tags": []
   },
   "outputs": [
    {
     "data": {
      "text/html": [
       "<div>\n",
       "<style scoped>\n",
       "    .dataframe tbody tr th:only-of-type {\n",
       "        vertical-align: middle;\n",
       "    }\n",
       "\n",
       "    .dataframe tbody tr th {\n",
       "        vertical-align: top;\n",
       "    }\n",
       "\n",
       "    .dataframe thead th {\n",
       "        text-align: right;\n",
       "    }\n",
       "</style>\n",
       "<table border=\"1\" class=\"dataframe\">\n",
       "  <thead>\n",
       "    <tr style=\"text-align: right;\">\n",
       "      <th></th>\n",
       "      <th>A</th>\n",
       "      <th>B</th>\n",
       "      <th>C</th>\n",
       "    </tr>\n",
       "  </thead>\n",
       "  <tbody>\n",
       "    <tr>\n",
       "      <th>0</th>\n",
       "      <td>2</td>\n",
       "      <td>1</td>\n",
       "      <td>5</td>\n",
       "    </tr>\n",
       "    <tr>\n",
       "      <th>1</th>\n",
       "      <td>3</td>\n",
       "      <td>2</td>\n",
       "      <td>3</td>\n",
       "    </tr>\n",
       "    <tr>\n",
       "      <th>2</th>\n",
       "      <td>1</td>\n",
       "      <td>3</td>\n",
       "      <td>4</td>\n",
       "    </tr>\n",
       "  </tbody>\n",
       "</table>\n",
       "</div>"
      ],
      "text/plain": [
       "   A  B  C\n",
       "0  2  1  5\n",
       "1  3  2  3\n",
       "2  1  3  4"
      ]
     },
     "execution_count": 114,
     "metadata": {},
     "output_type": "execute_result"
    }
   ],
   "source": [
    "df"
   ]
  },
  {
   "cell_type": "code",
   "execution_count": 115,
   "id": "d5e596f9-d5b4-4cfe-929c-cf44803dce15",
   "metadata": {
    "tags": []
   },
   "outputs": [
    {
     "data": {
      "text/html": [
       "<div>\n",
       "<style scoped>\n",
       "    .dataframe tbody tr th:only-of-type {\n",
       "        vertical-align: middle;\n",
       "    }\n",
       "\n",
       "    .dataframe tbody tr th {\n",
       "        vertical-align: top;\n",
       "    }\n",
       "\n",
       "    .dataframe thead th {\n",
       "        text-align: right;\n",
       "    }\n",
       "</style>\n",
       "<table border=\"1\" class=\"dataframe\">\n",
       "  <thead>\n",
       "    <tr style=\"text-align: right;\">\n",
       "      <th></th>\n",
       "      <th>A</th>\n",
       "      <th>B</th>\n",
       "      <th>C</th>\n",
       "    </tr>\n",
       "  </thead>\n",
       "  <tbody>\n",
       "    <tr>\n",
       "      <th>0</th>\n",
       "      <td>4</td>\n",
       "      <td>4</td>\n",
       "      <td>4</td>\n",
       "    </tr>\n",
       "  </tbody>\n",
       "</table>\n",
       "</div>"
      ],
      "text/plain": [
       "   A  B  C\n",
       "0  4  4  4"
      ]
     },
     "execution_count": 115,
     "metadata": {},
     "output_type": "execute_result"
    }
   ],
   "source": [
    "df1"
   ]
  },
  {
   "cell_type": "code",
   "execution_count": 116,
   "id": "1b9e0422-b545-47ae-bd20-5e28bc31e529",
   "metadata": {
    "tags": []
   },
   "outputs": [],
   "source": [
    "# df = pd.concat([df, df1], axis=1)\n",
    "# df = pd.concat([df, df1], axis=1, ignore_index=True)\n",
    "# df = pd.concat([df, df1], ignore_index=True)\n",
    "df = pd.concat([df, df1])"
   ]
  },
  {
   "cell_type": "code",
   "execution_count": 117,
   "id": "f278da19-172e-4671-a7c1-2048ac1ee72f",
   "metadata": {
    "tags": []
   },
   "outputs": [
    {
     "data": {
      "text/html": [
       "<div>\n",
       "<style scoped>\n",
       "    .dataframe tbody tr th:only-of-type {\n",
       "        vertical-align: middle;\n",
       "    }\n",
       "\n",
       "    .dataframe tbody tr th {\n",
       "        vertical-align: top;\n",
       "    }\n",
       "\n",
       "    .dataframe thead th {\n",
       "        text-align: right;\n",
       "    }\n",
       "</style>\n",
       "<table border=\"1\" class=\"dataframe\">\n",
       "  <thead>\n",
       "    <tr style=\"text-align: right;\">\n",
       "      <th></th>\n",
       "      <th>A</th>\n",
       "      <th>B</th>\n",
       "      <th>C</th>\n",
       "    </tr>\n",
       "  </thead>\n",
       "  <tbody>\n",
       "    <tr>\n",
       "      <th>0</th>\n",
       "      <td>2</td>\n",
       "      <td>1</td>\n",
       "      <td>5</td>\n",
       "    </tr>\n",
       "    <tr>\n",
       "      <th>1</th>\n",
       "      <td>3</td>\n",
       "      <td>2</td>\n",
       "      <td>3</td>\n",
       "    </tr>\n",
       "    <tr>\n",
       "      <th>2</th>\n",
       "      <td>1</td>\n",
       "      <td>3</td>\n",
       "      <td>4</td>\n",
       "    </tr>\n",
       "    <tr>\n",
       "      <th>0</th>\n",
       "      <td>4</td>\n",
       "      <td>4</td>\n",
       "      <td>4</td>\n",
       "    </tr>\n",
       "  </tbody>\n",
       "</table>\n",
       "</div>"
      ],
      "text/plain": [
       "   A  B  C\n",
       "0  2  1  5\n",
       "1  3  2  3\n",
       "2  1  3  4\n",
       "0  4  4  4"
      ]
     },
     "execution_count": 117,
     "metadata": {},
     "output_type": "execute_result"
    }
   ],
   "source": [
    "df"
   ]
  },
  {
   "cell_type": "code",
   "execution_count": 23,
   "id": "b3a8cdcc-746d-46b8-9649-71fdfb4574de",
   "metadata": {},
   "outputs": [],
   "source": [
    "df1 = pd.DataFrame({'lkey': ['foo', 'bar', 'baz', 'foo'],\n",
    "\n",
    "                    'value': [1, 2, 6, 5]})\n",
    "\n",
    "df2 = pd.DataFrame({'rkey': ['foo', 'bar', 'baz', 'foo'],\n",
    "\n",
    "                    'value': [5, 6, 7, 8]})"
   ]
  },
  {
   "cell_type": "code",
   "execution_count": 129,
   "id": "df516ecd-9efd-48ab-92cf-a4f01d1d22a6",
   "metadata": {},
   "outputs": [
    {
     "name": "stdout",
     "output_type": "stream",
     "text": [
      "  lkey  value\n",
      "0  foo      1\n",
      "1  bar      2\n",
      "2  baz      6\n",
      "3  foo      5\n"
     ]
    }
   ],
   "source": [
    "print(df1)"
   ]
  },
  {
   "cell_type": "code",
   "execution_count": 130,
   "id": "4196e231-046e-4a75-aaee-2a18b90c52bc",
   "metadata": {},
   "outputs": [
    {
     "name": "stdout",
     "output_type": "stream",
     "text": [
      "  rkey  value\n",
      "0  foo      5\n",
      "1  bar      6\n",
      "2  baz      7\n",
      "3  foo      8\n"
     ]
    }
   ],
   "source": [
    "print(df2)"
   ]
  },
  {
   "cell_type": "code",
   "execution_count": 131,
   "id": "682770a0-fc4a-4470-b65b-9f10944a3d7c",
   "metadata": {},
   "outputs": [
    {
     "data": {
      "text/html": [
       "<div>\n",
       "<style scoped>\n",
       "    .dataframe tbody tr th:only-of-type {\n",
       "        vertical-align: middle;\n",
       "    }\n",
       "\n",
       "    .dataframe tbody tr th {\n",
       "        vertical-align: top;\n",
       "    }\n",
       "\n",
       "    .dataframe thead th {\n",
       "        text-align: right;\n",
       "    }\n",
       "</style>\n",
       "<table border=\"1\" class=\"dataframe\">\n",
       "  <thead>\n",
       "    <tr style=\"text-align: right;\">\n",
       "      <th></th>\n",
       "      <th>lkey</th>\n",
       "      <th>value</th>\n",
       "      <th>rkey</th>\n",
       "    </tr>\n",
       "  </thead>\n",
       "  <tbody>\n",
       "    <tr>\n",
       "      <th>0</th>\n",
       "      <td>baz</td>\n",
       "      <td>6</td>\n",
       "      <td>bar</td>\n",
       "    </tr>\n",
       "    <tr>\n",
       "      <th>1</th>\n",
       "      <td>foo</td>\n",
       "      <td>5</td>\n",
       "      <td>foo</td>\n",
       "    </tr>\n",
       "  </tbody>\n",
       "</table>\n",
       "</div>"
      ],
      "text/plain": [
       "  lkey  value rkey\n",
       "0  baz      6  bar\n",
       "1  foo      5  foo"
      ]
     },
     "execution_count": 131,
     "metadata": {},
     "output_type": "execute_result"
    }
   ],
   "source": [
    "df1.merge(df2)"
   ]
  },
  {
   "cell_type": "code",
   "execution_count": 24,
   "id": "5d6d404d-ef04-4b41-b59b-01ed862552a9",
   "metadata": {},
   "outputs": [
    {
     "data": {
      "text/html": [
       "<div>\n",
       "<style scoped>\n",
       "    .dataframe tbody tr th:only-of-type {\n",
       "        vertical-align: middle;\n",
       "    }\n",
       "\n",
       "    .dataframe tbody tr th {\n",
       "        vertical-align: top;\n",
       "    }\n",
       "\n",
       "    .dataframe thead th {\n",
       "        text-align: right;\n",
       "    }\n",
       "</style>\n",
       "<table border=\"1\" class=\"dataframe\">\n",
       "  <thead>\n",
       "    <tr style=\"text-align: right;\">\n",
       "      <th></th>\n",
       "      <th>lkey</th>\n",
       "      <th>value</th>\n",
       "    </tr>\n",
       "  </thead>\n",
       "  <tbody>\n",
       "    <tr>\n",
       "      <th>0</th>\n",
       "      <td>foo</td>\n",
       "      <td>1</td>\n",
       "    </tr>\n",
       "    <tr>\n",
       "      <th>1</th>\n",
       "      <td>bar</td>\n",
       "      <td>2</td>\n",
       "    </tr>\n",
       "    <tr>\n",
       "      <th>2</th>\n",
       "      <td>baz</td>\n",
       "      <td>6</td>\n",
       "    </tr>\n",
       "    <tr>\n",
       "      <th>3</th>\n",
       "      <td>foo</td>\n",
       "      <td>5</td>\n",
       "    </tr>\n",
       "  </tbody>\n",
       "</table>\n",
       "</div>"
      ],
      "text/plain": [
       "  lkey  value\n",
       "0  foo      1\n",
       "1  bar      2\n",
       "2  baz      6\n",
       "3  foo      5"
      ]
     },
     "execution_count": 24,
     "metadata": {},
     "output_type": "execute_result"
    }
   ],
   "source": [
    "df1"
   ]
  },
  {
   "cell_type": "code",
   "execution_count": 25,
   "id": "9a9c76f4-c7cb-4204-8f5f-9952df6ac132",
   "metadata": {
    "tags": []
   },
   "outputs": [
    {
     "data": {
      "text/html": [
       "<div>\n",
       "<style scoped>\n",
       "    .dataframe tbody tr th:only-of-type {\n",
       "        vertical-align: middle;\n",
       "    }\n",
       "\n",
       "    .dataframe tbody tr th {\n",
       "        vertical-align: top;\n",
       "    }\n",
       "\n",
       "    .dataframe thead th {\n",
       "        text-align: right;\n",
       "    }\n",
       "</style>\n",
       "<table border=\"1\" class=\"dataframe\">\n",
       "  <thead>\n",
       "    <tr style=\"text-align: right;\">\n",
       "      <th></th>\n",
       "      <th>rkey</th>\n",
       "      <th>value</th>\n",
       "    </tr>\n",
       "  </thead>\n",
       "  <tbody>\n",
       "    <tr>\n",
       "      <th>0</th>\n",
       "      <td>foo</td>\n",
       "      <td>5</td>\n",
       "    </tr>\n",
       "    <tr>\n",
       "      <th>1</th>\n",
       "      <td>bar</td>\n",
       "      <td>6</td>\n",
       "    </tr>\n",
       "    <tr>\n",
       "      <th>2</th>\n",
       "      <td>baz</td>\n",
       "      <td>7</td>\n",
       "    </tr>\n",
       "    <tr>\n",
       "      <th>3</th>\n",
       "      <td>foo</td>\n",
       "      <td>8</td>\n",
       "    </tr>\n",
       "  </tbody>\n",
       "</table>\n",
       "</div>"
      ],
      "text/plain": [
       "  rkey  value\n",
       "0  foo      5\n",
       "1  bar      6\n",
       "2  baz      7\n",
       "3  foo      8"
      ]
     },
     "execution_count": 25,
     "metadata": {},
     "output_type": "execute_result"
    }
   ],
   "source": [
    "df2"
   ]
  },
  {
   "cell_type": "code",
   "execution_count": 133,
   "id": "5292c902-5977-4470-ac98-6a58c8323869",
   "metadata": {},
   "outputs": [
    {
     "data": {
      "text/html": [
       "<div>\n",
       "<style scoped>\n",
       "    .dataframe tbody tr th:only-of-type {\n",
       "        vertical-align: middle;\n",
       "    }\n",
       "\n",
       "    .dataframe tbody tr th {\n",
       "        vertical-align: top;\n",
       "    }\n",
       "\n",
       "    .dataframe thead th {\n",
       "        text-align: right;\n",
       "    }\n",
       "</style>\n",
       "<table border=\"1\" class=\"dataframe\">\n",
       "  <thead>\n",
       "    <tr style=\"text-align: right;\">\n",
       "      <th></th>\n",
       "      <th>lkey</th>\n",
       "      <th>value_x</th>\n",
       "      <th>rkey</th>\n",
       "      <th>value_y</th>\n",
       "    </tr>\n",
       "  </thead>\n",
       "  <tbody>\n",
       "    <tr>\n",
       "      <th>0</th>\n",
       "      <td>foo</td>\n",
       "      <td>1</td>\n",
       "      <td>foo</td>\n",
       "      <td>5</td>\n",
       "    </tr>\n",
       "    <tr>\n",
       "      <th>1</th>\n",
       "      <td>foo</td>\n",
       "      <td>1</td>\n",
       "      <td>foo</td>\n",
       "      <td>8</td>\n",
       "    </tr>\n",
       "    <tr>\n",
       "      <th>2</th>\n",
       "      <td>foo</td>\n",
       "      <td>5</td>\n",
       "      <td>foo</td>\n",
       "      <td>5</td>\n",
       "    </tr>\n",
       "    <tr>\n",
       "      <th>3</th>\n",
       "      <td>foo</td>\n",
       "      <td>5</td>\n",
       "      <td>foo</td>\n",
       "      <td>8</td>\n",
       "    </tr>\n",
       "    <tr>\n",
       "      <th>4</th>\n",
       "      <td>bar</td>\n",
       "      <td>2</td>\n",
       "      <td>bar</td>\n",
       "      <td>6</td>\n",
       "    </tr>\n",
       "    <tr>\n",
       "      <th>5</th>\n",
       "      <td>baz</td>\n",
       "      <td>6</td>\n",
       "      <td>baz</td>\n",
       "      <td>7</td>\n",
       "    </tr>\n",
       "  </tbody>\n",
       "</table>\n",
       "</div>"
      ],
      "text/plain": [
       "  lkey  value_x rkey  value_y\n",
       "0  foo        1  foo        5\n",
       "1  foo        1  foo        8\n",
       "2  foo        5  foo        5\n",
       "3  foo        5  foo        8\n",
       "4  bar        2  bar        6\n",
       "5  baz        6  baz        7"
      ]
     },
     "execution_count": 133,
     "metadata": {},
     "output_type": "execute_result"
    }
   ],
   "source": [
    "df1.merge(df2, left_on='lkey', right_on='rkey')"
   ]
  },
  {
   "cell_type": "markdown",
   "id": "44021751-bb59-4b0f-b38c-2111a25f6981",
   "metadata": {},
   "source": [
    "**Drop**"
   ]
  },
  {
   "cell_type": "code",
   "execution_count": 31,
   "id": "d8e25a04-d645-4849-96a2-57635f52498e",
   "metadata": {},
   "outputs": [],
   "source": [
    "df = pd.DataFrame(np.arange(12).reshape(3, 4),\n",
    "...                   columns=['A', 'B', 'C', 'D'])\n"
   ]
  },
  {
   "cell_type": "code",
   "execution_count": 32,
   "id": "663cc325-474b-41b4-9d20-7924f20ef1ba",
   "metadata": {},
   "outputs": [
    {
     "data": {
      "text/html": [
       "<div>\n",
       "<style scoped>\n",
       "    .dataframe tbody tr th:only-of-type {\n",
       "        vertical-align: middle;\n",
       "    }\n",
       "\n",
       "    .dataframe tbody tr th {\n",
       "        vertical-align: top;\n",
       "    }\n",
       "\n",
       "    .dataframe thead th {\n",
       "        text-align: right;\n",
       "    }\n",
       "</style>\n",
       "<table border=\"1\" class=\"dataframe\">\n",
       "  <thead>\n",
       "    <tr style=\"text-align: right;\">\n",
       "      <th></th>\n",
       "      <th>A</th>\n",
       "      <th>B</th>\n",
       "      <th>C</th>\n",
       "      <th>D</th>\n",
       "    </tr>\n",
       "  </thead>\n",
       "  <tbody>\n",
       "    <tr>\n",
       "      <th>0</th>\n",
       "      <td>0</td>\n",
       "      <td>1</td>\n",
       "      <td>2</td>\n",
       "      <td>3</td>\n",
       "    </tr>\n",
       "    <tr>\n",
       "      <th>1</th>\n",
       "      <td>4</td>\n",
       "      <td>5</td>\n",
       "      <td>6</td>\n",
       "      <td>7</td>\n",
       "    </tr>\n",
       "    <tr>\n",
       "      <th>2</th>\n",
       "      <td>8</td>\n",
       "      <td>9</td>\n",
       "      <td>10</td>\n",
       "      <td>11</td>\n",
       "    </tr>\n",
       "  </tbody>\n",
       "</table>\n",
       "</div>"
      ],
      "text/plain": [
       "   A  B   C   D\n",
       "0  0  1   2   3\n",
       "1  4  5   6   7\n",
       "2  8  9  10  11"
      ]
     },
     "execution_count": 32,
     "metadata": {},
     "output_type": "execute_result"
    }
   ],
   "source": [
    "df"
   ]
  },
  {
   "cell_type": "code",
   "execution_count": 140,
   "id": "b0fd8e55-7ac8-4a0d-a617-72ac92d37cbd",
   "metadata": {},
   "outputs": [
    {
     "data": {
      "text/html": [
       "<div>\n",
       "<style scoped>\n",
       "    .dataframe tbody tr th:only-of-type {\n",
       "        vertical-align: middle;\n",
       "    }\n",
       "\n",
       "    .dataframe tbody tr th {\n",
       "        vertical-align: top;\n",
       "    }\n",
       "\n",
       "    .dataframe thead th {\n",
       "        text-align: right;\n",
       "    }\n",
       "</style>\n",
       "<table border=\"1\" class=\"dataframe\">\n",
       "  <thead>\n",
       "    <tr style=\"text-align: right;\">\n",
       "      <th></th>\n",
       "      <th>A</th>\n",
       "      <th>B</th>\n",
       "      <th>C</th>\n",
       "      <th>D</th>\n",
       "    </tr>\n",
       "  </thead>\n",
       "  <tbody>\n",
       "    <tr>\n",
       "      <th>2</th>\n",
       "      <td>8</td>\n",
       "      <td>9</td>\n",
       "      <td>10</td>\n",
       "      <td>11</td>\n",
       "    </tr>\n",
       "  </tbody>\n",
       "</table>\n",
       "</div>"
      ],
      "text/plain": [
       "   A  B   C   D\n",
       "2  8  9  10  11"
      ]
     },
     "execution_count": 140,
     "metadata": {},
     "output_type": "execute_result"
    }
   ],
   "source": [
    "df.drop([0, 1], axis=0)"
   ]
  },
  {
   "cell_type": "code",
   "execution_count": 141,
   "id": "861d6615-1fc3-473f-93fe-9aabe8a6803a",
   "metadata": {},
   "outputs": [
    {
     "data": {
      "text/html": [
       "<div>\n",
       "<style scoped>\n",
       "    .dataframe tbody tr th:only-of-type {\n",
       "        vertical-align: middle;\n",
       "    }\n",
       "\n",
       "    .dataframe tbody tr th {\n",
       "        vertical-align: top;\n",
       "    }\n",
       "\n",
       "    .dataframe thead th {\n",
       "        text-align: right;\n",
       "    }\n",
       "</style>\n",
       "<table border=\"1\" class=\"dataframe\">\n",
       "  <thead>\n",
       "    <tr style=\"text-align: right;\">\n",
       "      <th></th>\n",
       "      <th>A</th>\n",
       "      <th>D</th>\n",
       "    </tr>\n",
       "  </thead>\n",
       "  <tbody>\n",
       "    <tr>\n",
       "      <th>0</th>\n",
       "      <td>0</td>\n",
       "      <td>3</td>\n",
       "    </tr>\n",
       "    <tr>\n",
       "      <th>1</th>\n",
       "      <td>4</td>\n",
       "      <td>7</td>\n",
       "    </tr>\n",
       "    <tr>\n",
       "      <th>2</th>\n",
       "      <td>8</td>\n",
       "      <td>11</td>\n",
       "    </tr>\n",
       "  </tbody>\n",
       "</table>\n",
       "</div>"
      ],
      "text/plain": [
       "   A   D\n",
       "0  0   3\n",
       "1  4   7\n",
       "2  8  11"
      ]
     },
     "execution_count": 141,
     "metadata": {},
     "output_type": "execute_result"
    }
   ],
   "source": [
    "df.drop(['B', 'C'], axis=1)"
   ]
  },
  {
   "cell_type": "code",
   "execution_count": 142,
   "id": "a1ae036d-eab5-4362-969b-cfad9f7e824c",
   "metadata": {},
   "outputs": [
    {
     "data": {
      "text/html": [
       "<div>\n",
       "<style scoped>\n",
       "    .dataframe tbody tr th:only-of-type {\n",
       "        vertical-align: middle;\n",
       "    }\n",
       "\n",
       "    .dataframe tbody tr th {\n",
       "        vertical-align: top;\n",
       "    }\n",
       "\n",
       "    .dataframe thead th {\n",
       "        text-align: right;\n",
       "    }\n",
       "</style>\n",
       "<table border=\"1\" class=\"dataframe\">\n",
       "  <thead>\n",
       "    <tr style=\"text-align: right;\">\n",
       "      <th></th>\n",
       "      <th>A</th>\n",
       "      <th>D</th>\n",
       "    </tr>\n",
       "  </thead>\n",
       "  <tbody>\n",
       "    <tr>\n",
       "      <th>0</th>\n",
       "      <td>0</td>\n",
       "      <td>3</td>\n",
       "    </tr>\n",
       "    <tr>\n",
       "      <th>1</th>\n",
       "      <td>4</td>\n",
       "      <td>7</td>\n",
       "    </tr>\n",
       "    <tr>\n",
       "      <th>2</th>\n",
       "      <td>8</td>\n",
       "      <td>11</td>\n",
       "    </tr>\n",
       "  </tbody>\n",
       "</table>\n",
       "</div>"
      ],
      "text/plain": [
       "   A   D\n",
       "0  0   3\n",
       "1  4   7\n",
       "2  8  11"
      ]
     },
     "execution_count": 142,
     "metadata": {},
     "output_type": "execute_result"
    }
   ],
   "source": [
    "df.drop(columns=['B', 'C'])"
   ]
  },
  {
   "cell_type": "code",
   "execution_count": 143,
   "id": "cbeb7be6-2916-4c04-a010-b9c97ead8d7c",
   "metadata": {
    "tags": []
   },
   "outputs": [
    {
     "data": {
      "text/html": [
       "<div>\n",
       "<style scoped>\n",
       "    .dataframe tbody tr th:only-of-type {\n",
       "        vertical-align: middle;\n",
       "    }\n",
       "\n",
       "    .dataframe tbody tr th {\n",
       "        vertical-align: top;\n",
       "    }\n",
       "\n",
       "    .dataframe thead th {\n",
       "        text-align: right;\n",
       "    }\n",
       "</style>\n",
       "<table border=\"1\" class=\"dataframe\">\n",
       "  <thead>\n",
       "    <tr style=\"text-align: right;\">\n",
       "      <th></th>\n",
       "      <th>A</th>\n",
       "      <th>B</th>\n",
       "      <th>C</th>\n",
       "      <th>D</th>\n",
       "    </tr>\n",
       "  </thead>\n",
       "  <tbody>\n",
       "    <tr>\n",
       "      <th>2</th>\n",
       "      <td>8</td>\n",
       "      <td>9</td>\n",
       "      <td>10</td>\n",
       "      <td>11</td>\n",
       "    </tr>\n",
       "  </tbody>\n",
       "</table>\n",
       "</div>"
      ],
      "text/plain": [
       "   A  B   C   D\n",
       "2  8  9  10  11"
      ]
     },
     "execution_count": 143,
     "metadata": {},
     "output_type": "execute_result"
    }
   ],
   "source": [
    "df.drop([0, 1])"
   ]
  },
  {
   "cell_type": "code",
   "execution_count": 144,
   "id": "49d23661-c843-4ae9-9695-36e8f7cc5abd",
   "metadata": {
    "tags": []
   },
   "outputs": [
    {
     "data": {
      "text/html": [
       "<div>\n",
       "<style scoped>\n",
       "    .dataframe tbody tr th:only-of-type {\n",
       "        vertical-align: middle;\n",
       "    }\n",
       "\n",
       "    .dataframe tbody tr th {\n",
       "        vertical-align: top;\n",
       "    }\n",
       "\n",
       "    .dataframe thead th {\n",
       "        text-align: right;\n",
       "    }\n",
       "</style>\n",
       "<table border=\"1\" class=\"dataframe\">\n",
       "  <thead>\n",
       "    <tr style=\"text-align: right;\">\n",
       "      <th></th>\n",
       "      <th>A</th>\n",
       "      <th>B</th>\n",
       "      <th>C</th>\n",
       "      <th>D</th>\n",
       "    </tr>\n",
       "  </thead>\n",
       "  <tbody>\n",
       "    <tr>\n",
       "      <th>1</th>\n",
       "      <td>4</td>\n",
       "      <td>5</td>\n",
       "      <td>6</td>\n",
       "      <td>7</td>\n",
       "    </tr>\n",
       "    <tr>\n",
       "      <th>2</th>\n",
       "      <td>8</td>\n",
       "      <td>9</td>\n",
       "      <td>10</td>\n",
       "      <td>11</td>\n",
       "    </tr>\n",
       "  </tbody>\n",
       "</table>\n",
       "</div>"
      ],
      "text/plain": [
       "   A  B   C   D\n",
       "1  4  5   6   7\n",
       "2  8  9  10  11"
      ]
     },
     "execution_count": 144,
     "metadata": {},
     "output_type": "execute_result"
    }
   ],
   "source": [
    "df.drop(0)"
   ]
  },
  {
   "cell_type": "code",
   "execution_count": 146,
   "id": "39d03918-70d3-4e7e-92ed-ea689d4920d4",
   "metadata": {
    "tags": []
   },
   "outputs": [],
   "source": [
    "midx = pd.MultiIndex(levels=[['llama', 'cow', 'falcon'],\n",
    "...                              ['speed', 'weight', 'length']],\n",
    "...                      codes=[[0, 0, 0, 1, 1, 1, 2, 2, 2],\n",
    "...                             [0, 1, 2, 0, 1, 2, 0, 1, 2]])\n",
    "\n",
    "df = pd.DataFrame(index=midx, columns=['big', 'small'],\n",
    "...                   data=[[45, 30], [200, 100], [1.5, 1], [30, 20],\n",
    "...                         [250, 150], [1.5, 0.8], [320, 250],\n",
    "...                         [1, 0.8], [0.3, 0.2]])"
   ]
  },
  {
   "cell_type": "code",
   "execution_count": 147,
   "id": "9f6bdf1c-67de-401f-be8c-e1e88f3f8de3",
   "metadata": {
    "tags": []
   },
   "outputs": [
    {
     "data": {
      "text/html": [
       "<div>\n",
       "<style scoped>\n",
       "    .dataframe tbody tr th:only-of-type {\n",
       "        vertical-align: middle;\n",
       "    }\n",
       "\n",
       "    .dataframe tbody tr th {\n",
       "        vertical-align: top;\n",
       "    }\n",
       "\n",
       "    .dataframe thead th {\n",
       "        text-align: right;\n",
       "    }\n",
       "</style>\n",
       "<table border=\"1\" class=\"dataframe\">\n",
       "  <thead>\n",
       "    <tr style=\"text-align: right;\">\n",
       "      <th></th>\n",
       "      <th></th>\n",
       "      <th>big</th>\n",
       "      <th>small</th>\n",
       "    </tr>\n",
       "  </thead>\n",
       "  <tbody>\n",
       "    <tr>\n",
       "      <th rowspan=\"3\" valign=\"top\">llama</th>\n",
       "      <th>speed</th>\n",
       "      <td>45.0</td>\n",
       "      <td>30.0</td>\n",
       "    </tr>\n",
       "    <tr>\n",
       "      <th>weight</th>\n",
       "      <td>200.0</td>\n",
       "      <td>100.0</td>\n",
       "    </tr>\n",
       "    <tr>\n",
       "      <th>length</th>\n",
       "      <td>1.5</td>\n",
       "      <td>1.0</td>\n",
       "    </tr>\n",
       "    <tr>\n",
       "      <th rowspan=\"3\" valign=\"top\">cow</th>\n",
       "      <th>speed</th>\n",
       "      <td>30.0</td>\n",
       "      <td>20.0</td>\n",
       "    </tr>\n",
       "    <tr>\n",
       "      <th>weight</th>\n",
       "      <td>250.0</td>\n",
       "      <td>150.0</td>\n",
       "    </tr>\n",
       "    <tr>\n",
       "      <th>length</th>\n",
       "      <td>1.5</td>\n",
       "      <td>0.8</td>\n",
       "    </tr>\n",
       "    <tr>\n",
       "      <th rowspan=\"3\" valign=\"top\">falcon</th>\n",
       "      <th>speed</th>\n",
       "      <td>320.0</td>\n",
       "      <td>250.0</td>\n",
       "    </tr>\n",
       "    <tr>\n",
       "      <th>weight</th>\n",
       "      <td>1.0</td>\n",
       "      <td>0.8</td>\n",
       "    </tr>\n",
       "    <tr>\n",
       "      <th>length</th>\n",
       "      <td>0.3</td>\n",
       "      <td>0.2</td>\n",
       "    </tr>\n",
       "  </tbody>\n",
       "</table>\n",
       "</div>"
      ],
      "text/plain": [
       "                 big  small\n",
       "llama  speed    45.0   30.0\n",
       "       weight  200.0  100.0\n",
       "       length    1.5    1.0\n",
       "cow    speed    30.0   20.0\n",
       "       weight  250.0  150.0\n",
       "       length    1.5    0.8\n",
       "falcon speed   320.0  250.0\n",
       "       weight    1.0    0.8\n",
       "       length    0.3    0.2"
      ]
     },
     "execution_count": 147,
     "metadata": {},
     "output_type": "execute_result"
    }
   ],
   "source": [
    "df"
   ]
  },
  {
   "cell_type": "code",
   "execution_count": 148,
   "id": "5b37e3f8-e62c-46a9-b81c-e6343a0eb13b",
   "metadata": {
    "tags": []
   },
   "outputs": [
    {
     "data": {
      "text/html": [
       "<div>\n",
       "<style scoped>\n",
       "    .dataframe tbody tr th:only-of-type {\n",
       "        vertical-align: middle;\n",
       "    }\n",
       "\n",
       "    .dataframe tbody tr th {\n",
       "        vertical-align: top;\n",
       "    }\n",
       "\n",
       "    .dataframe thead th {\n",
       "        text-align: right;\n",
       "    }\n",
       "</style>\n",
       "<table border=\"1\" class=\"dataframe\">\n",
       "  <thead>\n",
       "    <tr style=\"text-align: right;\">\n",
       "      <th></th>\n",
       "      <th></th>\n",
       "      <th>big</th>\n",
       "      <th>small</th>\n",
       "    </tr>\n",
       "  </thead>\n",
       "  <tbody>\n",
       "    <tr>\n",
       "      <th rowspan=\"3\" valign=\"top\">llama</th>\n",
       "      <th>speed</th>\n",
       "      <td>45.0</td>\n",
       "      <td>30.0</td>\n",
       "    </tr>\n",
       "    <tr>\n",
       "      <th>weight</th>\n",
       "      <td>200.0</td>\n",
       "      <td>100.0</td>\n",
       "    </tr>\n",
       "    <tr>\n",
       "      <th>length</th>\n",
       "      <td>1.5</td>\n",
       "      <td>1.0</td>\n",
       "    </tr>\n",
       "    <tr>\n",
       "      <th rowspan=\"3\" valign=\"top\">cow</th>\n",
       "      <th>speed</th>\n",
       "      <td>30.0</td>\n",
       "      <td>20.0</td>\n",
       "    </tr>\n",
       "    <tr>\n",
       "      <th>weight</th>\n",
       "      <td>250.0</td>\n",
       "      <td>150.0</td>\n",
       "    </tr>\n",
       "    <tr>\n",
       "      <th>length</th>\n",
       "      <td>1.5</td>\n",
       "      <td>0.8</td>\n",
       "    </tr>\n",
       "    <tr>\n",
       "      <th rowspan=\"2\" valign=\"top\">falcon</th>\n",
       "      <th>speed</th>\n",
       "      <td>320.0</td>\n",
       "      <td>250.0</td>\n",
       "    </tr>\n",
       "    <tr>\n",
       "      <th>length</th>\n",
       "      <td>0.3</td>\n",
       "      <td>0.2</td>\n",
       "    </tr>\n",
       "  </tbody>\n",
       "</table>\n",
       "</div>"
      ],
      "text/plain": [
       "                 big  small\n",
       "llama  speed    45.0   30.0\n",
       "       weight  200.0  100.0\n",
       "       length    1.5    1.0\n",
       "cow    speed    30.0   20.0\n",
       "       weight  250.0  150.0\n",
       "       length    1.5    0.8\n",
       "falcon speed   320.0  250.0\n",
       "       length    0.3    0.2"
      ]
     },
     "execution_count": 148,
     "metadata": {},
     "output_type": "execute_result"
    }
   ],
   "source": [
    "df.drop(index=('falcon', 'weight'))"
   ]
  },
  {
   "cell_type": "code",
   "execution_count": 149,
   "id": "075d5560-6d10-46bf-bbac-8be28355ce6f",
   "metadata": {
    "tags": []
   },
   "outputs": [
    {
     "data": {
      "text/html": [
       "<div>\n",
       "<style scoped>\n",
       "    .dataframe tbody tr th:only-of-type {\n",
       "        vertical-align: middle;\n",
       "    }\n",
       "\n",
       "    .dataframe tbody tr th {\n",
       "        vertical-align: top;\n",
       "    }\n",
       "\n",
       "    .dataframe thead th {\n",
       "        text-align: right;\n",
       "    }\n",
       "</style>\n",
       "<table border=\"1\" class=\"dataframe\">\n",
       "  <thead>\n",
       "    <tr style=\"text-align: right;\">\n",
       "      <th></th>\n",
       "      <th></th>\n",
       "      <th>big</th>\n",
       "    </tr>\n",
       "  </thead>\n",
       "  <tbody>\n",
       "    <tr>\n",
       "      <th rowspan=\"3\" valign=\"top\">llama</th>\n",
       "      <th>speed</th>\n",
       "      <td>45.0</td>\n",
       "    </tr>\n",
       "    <tr>\n",
       "      <th>weight</th>\n",
       "      <td>200.0</td>\n",
       "    </tr>\n",
       "    <tr>\n",
       "      <th>length</th>\n",
       "      <td>1.5</td>\n",
       "    </tr>\n",
       "    <tr>\n",
       "      <th rowspan=\"3\" valign=\"top\">falcon</th>\n",
       "      <th>speed</th>\n",
       "      <td>320.0</td>\n",
       "    </tr>\n",
       "    <tr>\n",
       "      <th>weight</th>\n",
       "      <td>1.0</td>\n",
       "    </tr>\n",
       "    <tr>\n",
       "      <th>length</th>\n",
       "      <td>0.3</td>\n",
       "    </tr>\n",
       "  </tbody>\n",
       "</table>\n",
       "</div>"
      ],
      "text/plain": [
       "                 big\n",
       "llama  speed    45.0\n",
       "       weight  200.0\n",
       "       length    1.5\n",
       "falcon speed   320.0\n",
       "       weight    1.0\n",
       "       length    0.3"
      ]
     },
     "execution_count": 149,
     "metadata": {},
     "output_type": "execute_result"
    }
   ],
   "source": [
    "df.drop(index='cow', columns='small')"
   ]
  },
  {
   "cell_type": "markdown",
   "id": "91d500e0-b68b-4aa7-9b98-ee32215c7c98",
   "metadata": {
    "tags": []
   },
   "source": [
    "**Shorting & Shuffling**"
   ]
  },
  {
   "cell_type": "code",
   "execution_count": 157,
   "id": "2c9a99af-26e6-4fe1-a70f-d25577eb1410",
   "metadata": {
    "tags": []
   },
   "outputs": [],
   "source": [
    "df = pd.DataFrame({\n",
    "\n",
    "    'col1': ['A', 'A', 'B', np.nan, 'D', 'C'],\n",
    "\n",
    "    'col2': [2, 1, 9, 8, 7, 4],\n",
    "\n",
    "    'col3': [0, 1, 9, 4, 2, 3],\n",
    "\n",
    "    'col4': ['a', 'B', 'c', 'D', 'e', 'F']\n",
    "\n",
    "})"
   ]
  },
  {
   "cell_type": "code",
   "execution_count": 158,
   "id": "248f9ac6-f130-4119-b323-031d4561a54f",
   "metadata": {
    "tags": []
   },
   "outputs": [
    {
     "data": {
      "text/html": [
       "<div>\n",
       "<style scoped>\n",
       "    .dataframe tbody tr th:only-of-type {\n",
       "        vertical-align: middle;\n",
       "    }\n",
       "\n",
       "    .dataframe tbody tr th {\n",
       "        vertical-align: top;\n",
       "    }\n",
       "\n",
       "    .dataframe thead th {\n",
       "        text-align: right;\n",
       "    }\n",
       "</style>\n",
       "<table border=\"1\" class=\"dataframe\">\n",
       "  <thead>\n",
       "    <tr style=\"text-align: right;\">\n",
       "      <th></th>\n",
       "      <th>col1</th>\n",
       "      <th>col2</th>\n",
       "      <th>col3</th>\n",
       "      <th>col4</th>\n",
       "    </tr>\n",
       "  </thead>\n",
       "  <tbody>\n",
       "    <tr>\n",
       "      <th>0</th>\n",
       "      <td>A</td>\n",
       "      <td>2</td>\n",
       "      <td>0</td>\n",
       "      <td>a</td>\n",
       "    </tr>\n",
       "    <tr>\n",
       "      <th>1</th>\n",
       "      <td>A</td>\n",
       "      <td>1</td>\n",
       "      <td>1</td>\n",
       "      <td>B</td>\n",
       "    </tr>\n",
       "    <tr>\n",
       "      <th>2</th>\n",
       "      <td>B</td>\n",
       "      <td>9</td>\n",
       "      <td>9</td>\n",
       "      <td>c</td>\n",
       "    </tr>\n",
       "    <tr>\n",
       "      <th>3</th>\n",
       "      <td>NaN</td>\n",
       "      <td>8</td>\n",
       "      <td>4</td>\n",
       "      <td>D</td>\n",
       "    </tr>\n",
       "    <tr>\n",
       "      <th>4</th>\n",
       "      <td>D</td>\n",
       "      <td>7</td>\n",
       "      <td>2</td>\n",
       "      <td>e</td>\n",
       "    </tr>\n",
       "    <tr>\n",
       "      <th>5</th>\n",
       "      <td>C</td>\n",
       "      <td>4</td>\n",
       "      <td>3</td>\n",
       "      <td>F</td>\n",
       "    </tr>\n",
       "  </tbody>\n",
       "</table>\n",
       "</div>"
      ],
      "text/plain": [
       "  col1  col2  col3 col4\n",
       "0    A     2     0    a\n",
       "1    A     1     1    B\n",
       "2    B     9     9    c\n",
       "3  NaN     8     4    D\n",
       "4    D     7     2    e\n",
       "5    C     4     3    F"
      ]
     },
     "execution_count": 158,
     "metadata": {},
     "output_type": "execute_result"
    }
   ],
   "source": [
    "df"
   ]
  },
  {
   "cell_type": "code",
   "execution_count": 159,
   "id": "d2690ee1-3a71-47ad-8b98-8443ace2805c",
   "metadata": {
    "tags": []
   },
   "outputs": [
    {
     "data": {
      "text/html": [
       "<div>\n",
       "<style scoped>\n",
       "    .dataframe tbody tr th:only-of-type {\n",
       "        vertical-align: middle;\n",
       "    }\n",
       "\n",
       "    .dataframe tbody tr th {\n",
       "        vertical-align: top;\n",
       "    }\n",
       "\n",
       "    .dataframe thead th {\n",
       "        text-align: right;\n",
       "    }\n",
       "</style>\n",
       "<table border=\"1\" class=\"dataframe\">\n",
       "  <thead>\n",
       "    <tr style=\"text-align: right;\">\n",
       "      <th></th>\n",
       "      <th>col1</th>\n",
       "      <th>col2</th>\n",
       "      <th>col3</th>\n",
       "      <th>col4</th>\n",
       "    </tr>\n",
       "  </thead>\n",
       "  <tbody>\n",
       "    <tr>\n",
       "      <th>0</th>\n",
       "      <td>A</td>\n",
       "      <td>2</td>\n",
       "      <td>0</td>\n",
       "      <td>a</td>\n",
       "    </tr>\n",
       "    <tr>\n",
       "      <th>1</th>\n",
       "      <td>A</td>\n",
       "      <td>1</td>\n",
       "      <td>1</td>\n",
       "      <td>B</td>\n",
       "    </tr>\n",
       "    <tr>\n",
       "      <th>2</th>\n",
       "      <td>B</td>\n",
       "      <td>9</td>\n",
       "      <td>9</td>\n",
       "      <td>c</td>\n",
       "    </tr>\n",
       "    <tr>\n",
       "      <th>5</th>\n",
       "      <td>C</td>\n",
       "      <td>4</td>\n",
       "      <td>3</td>\n",
       "      <td>F</td>\n",
       "    </tr>\n",
       "    <tr>\n",
       "      <th>4</th>\n",
       "      <td>D</td>\n",
       "      <td>7</td>\n",
       "      <td>2</td>\n",
       "      <td>e</td>\n",
       "    </tr>\n",
       "    <tr>\n",
       "      <th>3</th>\n",
       "      <td>NaN</td>\n",
       "      <td>8</td>\n",
       "      <td>4</td>\n",
       "      <td>D</td>\n",
       "    </tr>\n",
       "  </tbody>\n",
       "</table>\n",
       "</div>"
      ],
      "text/plain": [
       "  col1  col2  col3 col4\n",
       "0    A     2     0    a\n",
       "1    A     1     1    B\n",
       "2    B     9     9    c\n",
       "5    C     4     3    F\n",
       "4    D     7     2    e\n",
       "3  NaN     8     4    D"
      ]
     },
     "execution_count": 159,
     "metadata": {},
     "output_type": "execute_result"
    }
   ],
   "source": [
    "df.sort_values(by=['col1'])"
   ]
  },
  {
   "cell_type": "code",
   "execution_count": 160,
   "id": "ff5fc97e-985f-4317-97f6-1e71934ad07a",
   "metadata": {
    "tags": []
   },
   "outputs": [
    {
     "data": {
      "text/html": [
       "<div>\n",
       "<style scoped>\n",
       "    .dataframe tbody tr th:only-of-type {\n",
       "        vertical-align: middle;\n",
       "    }\n",
       "\n",
       "    .dataframe tbody tr th {\n",
       "        vertical-align: top;\n",
       "    }\n",
       "\n",
       "    .dataframe thead th {\n",
       "        text-align: right;\n",
       "    }\n",
       "</style>\n",
       "<table border=\"1\" class=\"dataframe\">\n",
       "  <thead>\n",
       "    <tr style=\"text-align: right;\">\n",
       "      <th></th>\n",
       "      <th>col1</th>\n",
       "      <th>col2</th>\n",
       "      <th>col3</th>\n",
       "      <th>col4</th>\n",
       "    </tr>\n",
       "  </thead>\n",
       "  <tbody>\n",
       "    <tr>\n",
       "      <th>1</th>\n",
       "      <td>A</td>\n",
       "      <td>1</td>\n",
       "      <td>1</td>\n",
       "      <td>B</td>\n",
       "    </tr>\n",
       "    <tr>\n",
       "      <th>0</th>\n",
       "      <td>A</td>\n",
       "      <td>2</td>\n",
       "      <td>0</td>\n",
       "      <td>a</td>\n",
       "    </tr>\n",
       "    <tr>\n",
       "      <th>2</th>\n",
       "      <td>B</td>\n",
       "      <td>9</td>\n",
       "      <td>9</td>\n",
       "      <td>c</td>\n",
       "    </tr>\n",
       "    <tr>\n",
       "      <th>5</th>\n",
       "      <td>C</td>\n",
       "      <td>4</td>\n",
       "      <td>3</td>\n",
       "      <td>F</td>\n",
       "    </tr>\n",
       "    <tr>\n",
       "      <th>4</th>\n",
       "      <td>D</td>\n",
       "      <td>7</td>\n",
       "      <td>2</td>\n",
       "      <td>e</td>\n",
       "    </tr>\n",
       "    <tr>\n",
       "      <th>3</th>\n",
       "      <td>NaN</td>\n",
       "      <td>8</td>\n",
       "      <td>4</td>\n",
       "      <td>D</td>\n",
       "    </tr>\n",
       "  </tbody>\n",
       "</table>\n",
       "</div>"
      ],
      "text/plain": [
       "  col1  col2  col3 col4\n",
       "1    A     1     1    B\n",
       "0    A     2     0    a\n",
       "2    B     9     9    c\n",
       "5    C     4     3    F\n",
       "4    D     7     2    e\n",
       "3  NaN     8     4    D"
      ]
     },
     "execution_count": 160,
     "metadata": {},
     "output_type": "execute_result"
    }
   ],
   "source": [
    "df.sort_values(by=['col1', 'col2'])"
   ]
  },
  {
   "cell_type": "code",
   "execution_count": 161,
   "id": "60a75903-83c1-4e3e-bc18-edd74d656b61",
   "metadata": {
    "tags": []
   },
   "outputs": [
    {
     "data": {
      "text/html": [
       "<div>\n",
       "<style scoped>\n",
       "    .dataframe tbody tr th:only-of-type {\n",
       "        vertical-align: middle;\n",
       "    }\n",
       "\n",
       "    .dataframe tbody tr th {\n",
       "        vertical-align: top;\n",
       "    }\n",
       "\n",
       "    .dataframe thead th {\n",
       "        text-align: right;\n",
       "    }\n",
       "</style>\n",
       "<table border=\"1\" class=\"dataframe\">\n",
       "  <thead>\n",
       "    <tr style=\"text-align: right;\">\n",
       "      <th></th>\n",
       "      <th>col1</th>\n",
       "      <th>col2</th>\n",
       "      <th>col3</th>\n",
       "      <th>col4</th>\n",
       "    </tr>\n",
       "  </thead>\n",
       "  <tbody>\n",
       "    <tr>\n",
       "      <th>4</th>\n",
       "      <td>D</td>\n",
       "      <td>7</td>\n",
       "      <td>2</td>\n",
       "      <td>e</td>\n",
       "    </tr>\n",
       "    <tr>\n",
       "      <th>5</th>\n",
       "      <td>C</td>\n",
       "      <td>4</td>\n",
       "      <td>3</td>\n",
       "      <td>F</td>\n",
       "    </tr>\n",
       "    <tr>\n",
       "      <th>2</th>\n",
       "      <td>B</td>\n",
       "      <td>9</td>\n",
       "      <td>9</td>\n",
       "      <td>c</td>\n",
       "    </tr>\n",
       "    <tr>\n",
       "      <th>0</th>\n",
       "      <td>A</td>\n",
       "      <td>2</td>\n",
       "      <td>0</td>\n",
       "      <td>a</td>\n",
       "    </tr>\n",
       "    <tr>\n",
       "      <th>1</th>\n",
       "      <td>A</td>\n",
       "      <td>1</td>\n",
       "      <td>1</td>\n",
       "      <td>B</td>\n",
       "    </tr>\n",
       "    <tr>\n",
       "      <th>3</th>\n",
       "      <td>NaN</td>\n",
       "      <td>8</td>\n",
       "      <td>4</td>\n",
       "      <td>D</td>\n",
       "    </tr>\n",
       "  </tbody>\n",
       "</table>\n",
       "</div>"
      ],
      "text/plain": [
       "  col1  col2  col3 col4\n",
       "4    D     7     2    e\n",
       "5    C     4     3    F\n",
       "2    B     9     9    c\n",
       "0    A     2     0    a\n",
       "1    A     1     1    B\n",
       "3  NaN     8     4    D"
      ]
     },
     "execution_count": 161,
     "metadata": {},
     "output_type": "execute_result"
    }
   ],
   "source": [
    "df.sort_values(by='col1', ascending=False)"
   ]
  },
  {
   "cell_type": "code",
   "execution_count": 162,
   "id": "e6fbe4bd-5f93-476c-92b1-a9fc8398a2c7",
   "metadata": {
    "tags": []
   },
   "outputs": [],
   "source": [
    "# create a DataFrame\n",
    "ODI_runs = {'name': ['Tendulkar', 'Sangakkara', 'Ponting',\n",
    "                      'Jayasurya', 'Jayawardene', 'Kohli',\n",
    "                      'Haq', 'Kallis', 'Ganguly', 'Dravid'],\n",
    "            'runs': [18426, 14234, 13704, 13430, 12650,\n",
    "                     11867, 11739, 11579, 11363, 10889]}"
   ]
  },
  {
   "cell_type": "code",
   "execution_count": 163,
   "id": "32fa2ff4-09f6-458a-845b-31e6baf52984",
   "metadata": {
    "tags": []
   },
   "outputs": [],
   "source": [
    "df = pd.DataFrame(ODI_runs)"
   ]
  },
  {
   "cell_type": "code",
   "execution_count": 164,
   "id": "7dda5218-7865-4dfa-ada2-c7f15beb236a",
   "metadata": {
    "tags": []
   },
   "outputs": [
    {
     "data": {
      "text/html": [
       "<div>\n",
       "<style scoped>\n",
       "    .dataframe tbody tr th:only-of-type {\n",
       "        vertical-align: middle;\n",
       "    }\n",
       "\n",
       "    .dataframe tbody tr th {\n",
       "        vertical-align: top;\n",
       "    }\n",
       "\n",
       "    .dataframe thead th {\n",
       "        text-align: right;\n",
       "    }\n",
       "</style>\n",
       "<table border=\"1\" class=\"dataframe\">\n",
       "  <thead>\n",
       "    <tr style=\"text-align: right;\">\n",
       "      <th></th>\n",
       "      <th>name</th>\n",
       "      <th>runs</th>\n",
       "    </tr>\n",
       "  </thead>\n",
       "  <tbody>\n",
       "    <tr>\n",
       "      <th>0</th>\n",
       "      <td>Tendulkar</td>\n",
       "      <td>18426</td>\n",
       "    </tr>\n",
       "    <tr>\n",
       "      <th>1</th>\n",
       "      <td>Sangakkara</td>\n",
       "      <td>14234</td>\n",
       "    </tr>\n",
       "    <tr>\n",
       "      <th>2</th>\n",
       "      <td>Ponting</td>\n",
       "      <td>13704</td>\n",
       "    </tr>\n",
       "    <tr>\n",
       "      <th>3</th>\n",
       "      <td>Jayasurya</td>\n",
       "      <td>13430</td>\n",
       "    </tr>\n",
       "    <tr>\n",
       "      <th>4</th>\n",
       "      <td>Jayawardene</td>\n",
       "      <td>12650</td>\n",
       "    </tr>\n",
       "    <tr>\n",
       "      <th>5</th>\n",
       "      <td>Kohli</td>\n",
       "      <td>11867</td>\n",
       "    </tr>\n",
       "    <tr>\n",
       "      <th>6</th>\n",
       "      <td>Haq</td>\n",
       "      <td>11739</td>\n",
       "    </tr>\n",
       "    <tr>\n",
       "      <th>7</th>\n",
       "      <td>Kallis</td>\n",
       "      <td>11579</td>\n",
       "    </tr>\n",
       "    <tr>\n",
       "      <th>8</th>\n",
       "      <td>Ganguly</td>\n",
       "      <td>11363</td>\n",
       "    </tr>\n",
       "    <tr>\n",
       "      <th>9</th>\n",
       "      <td>Dravid</td>\n",
       "      <td>10889</td>\n",
       "    </tr>\n",
       "  </tbody>\n",
       "</table>\n",
       "</div>"
      ],
      "text/plain": [
       "          name   runs\n",
       "0    Tendulkar  18426\n",
       "1   Sangakkara  14234\n",
       "2      Ponting  13704\n",
       "3    Jayasurya  13430\n",
       "4  Jayawardene  12650\n",
       "5        Kohli  11867\n",
       "6          Haq  11739\n",
       "7       Kallis  11579\n",
       "8      Ganguly  11363\n",
       "9       Dravid  10889"
      ]
     },
     "execution_count": 164,
     "metadata": {},
     "output_type": "execute_result"
    }
   ],
   "source": [
    "df"
   ]
  },
  {
   "cell_type": "code",
   "execution_count": 166,
   "id": "82ef3a7c-da9d-4406-8300-2eed13d05a07",
   "metadata": {
    "tags": []
   },
   "outputs": [
    {
     "data": {
      "text/html": [
       "<div>\n",
       "<style scoped>\n",
       "    .dataframe tbody tr th:only-of-type {\n",
       "        vertical-align: middle;\n",
       "    }\n",
       "\n",
       "    .dataframe tbody tr th {\n",
       "        vertical-align: top;\n",
       "    }\n",
       "\n",
       "    .dataframe thead th {\n",
       "        text-align: right;\n",
       "    }\n",
       "</style>\n",
       "<table border=\"1\" class=\"dataframe\">\n",
       "  <thead>\n",
       "    <tr style=\"text-align: right;\">\n",
       "      <th></th>\n",
       "      <th>name</th>\n",
       "      <th>runs</th>\n",
       "    </tr>\n",
       "  </thead>\n",
       "  <tbody>\n",
       "    <tr>\n",
       "      <th>1</th>\n",
       "      <td>Sangakkara</td>\n",
       "      <td>14234</td>\n",
       "    </tr>\n",
       "    <tr>\n",
       "      <th>2</th>\n",
       "      <td>Ponting</td>\n",
       "      <td>13704</td>\n",
       "    </tr>\n",
       "    <tr>\n",
       "      <th>0</th>\n",
       "      <td>Tendulkar</td>\n",
       "      <td>18426</td>\n",
       "    </tr>\n",
       "    <tr>\n",
       "      <th>6</th>\n",
       "      <td>Haq</td>\n",
       "      <td>11739</td>\n",
       "    </tr>\n",
       "    <tr>\n",
       "      <th>9</th>\n",
       "      <td>Dravid</td>\n",
       "      <td>10889</td>\n",
       "    </tr>\n",
       "    <tr>\n",
       "      <th>4</th>\n",
       "      <td>Jayawardene</td>\n",
       "      <td>12650</td>\n",
       "    </tr>\n",
       "    <tr>\n",
       "      <th>8</th>\n",
       "      <td>Ganguly</td>\n",
       "      <td>11363</td>\n",
       "    </tr>\n",
       "    <tr>\n",
       "      <th>5</th>\n",
       "      <td>Kohli</td>\n",
       "      <td>11867</td>\n",
       "    </tr>\n",
       "    <tr>\n",
       "      <th>7</th>\n",
       "      <td>Kallis</td>\n",
       "      <td>11579</td>\n",
       "    </tr>\n",
       "    <tr>\n",
       "      <th>3</th>\n",
       "      <td>Jayasurya</td>\n",
       "      <td>13430</td>\n",
       "    </tr>\n",
       "  </tbody>\n",
       "</table>\n",
       "</div>"
      ],
      "text/plain": [
       "          name   runs\n",
       "1   Sangakkara  14234\n",
       "2      Ponting  13704\n",
       "0    Tendulkar  18426\n",
       "6          Haq  11739\n",
       "9       Dravid  10889\n",
       "4  Jayawardene  12650\n",
       "8      Ganguly  11363\n",
       "5        Kohli  11867\n",
       "7       Kallis  11579\n",
       "3    Jayasurya  13430"
      ]
     },
     "execution_count": 166,
     "metadata": {},
     "output_type": "execute_result"
    }
   ],
   "source": [
    "df1 = df.sample(frac = 1)\n",
    "df1"
   ]
  },
  {
   "cell_type": "code",
   "execution_count": 172,
   "id": "f4415a9b-aa3f-4c5b-9f11-b96ffd5197e5",
   "metadata": {
    "tags": []
   },
   "outputs": [
    {
     "data": {
      "text/html": [
       "<div>\n",
       "<style scoped>\n",
       "    .dataframe tbody tr th:only-of-type {\n",
       "        vertical-align: middle;\n",
       "    }\n",
       "\n",
       "    .dataframe tbody tr th {\n",
       "        vertical-align: top;\n",
       "    }\n",
       "\n",
       "    .dataframe thead th {\n",
       "        text-align: right;\n",
       "    }\n",
       "</style>\n",
       "<table border=\"1\" class=\"dataframe\">\n",
       "  <thead>\n",
       "    <tr style=\"text-align: right;\">\n",
       "      <th></th>\n",
       "      <th>name</th>\n",
       "      <th>runs</th>\n",
       "    </tr>\n",
       "  </thead>\n",
       "  <tbody>\n",
       "    <tr>\n",
       "      <th>0</th>\n",
       "      <td>Sangakkara</td>\n",
       "      <td>14234</td>\n",
       "    </tr>\n",
       "    <tr>\n",
       "      <th>1</th>\n",
       "      <td>Ponting</td>\n",
       "      <td>13704</td>\n",
       "    </tr>\n",
       "    <tr>\n",
       "      <th>2</th>\n",
       "      <td>Tendulkar</td>\n",
       "      <td>18426</td>\n",
       "    </tr>\n",
       "    <tr>\n",
       "      <th>3</th>\n",
       "      <td>Haq</td>\n",
       "      <td>11739</td>\n",
       "    </tr>\n",
       "    <tr>\n",
       "      <th>4</th>\n",
       "      <td>Dravid</td>\n",
       "      <td>10889</td>\n",
       "    </tr>\n",
       "    <tr>\n",
       "      <th>5</th>\n",
       "      <td>Jayawardene</td>\n",
       "      <td>12650</td>\n",
       "    </tr>\n",
       "    <tr>\n",
       "      <th>6</th>\n",
       "      <td>Ganguly</td>\n",
       "      <td>11363</td>\n",
       "    </tr>\n",
       "    <tr>\n",
       "      <th>7</th>\n",
       "      <td>Kohli</td>\n",
       "      <td>11867</td>\n",
       "    </tr>\n",
       "    <tr>\n",
       "      <th>8</th>\n",
       "      <td>Kallis</td>\n",
       "      <td>11579</td>\n",
       "    </tr>\n",
       "    <tr>\n",
       "      <th>9</th>\n",
       "      <td>Jayasurya</td>\n",
       "      <td>13430</td>\n",
       "    </tr>\n",
       "  </tbody>\n",
       "</table>\n",
       "</div>"
      ],
      "text/plain": [
       "          name   runs\n",
       "0   Sangakkara  14234\n",
       "1      Ponting  13704\n",
       "2    Tendulkar  18426\n",
       "3          Haq  11739\n",
       "4       Dravid  10889\n",
       "5  Jayawardene  12650\n",
       "6      Ganguly  11363\n",
       "7        Kohli  11867\n",
       "8       Kallis  11579\n",
       "9    Jayasurya  13430"
      ]
     },
     "execution_count": 172,
     "metadata": {},
     "output_type": "execute_result"
    }
   ],
   "source": [
    "df1.reset_index(drop=True)"
   ]
  },
  {
   "cell_type": "code",
   "execution_count": 175,
   "id": "fe04e4dc-0fed-4e26-8ac8-fba5ba8ab0f9",
   "metadata": {
    "tags": []
   },
   "outputs": [
    {
     "data": {
      "text/plain": [
       "name    Sangakkara\n",
       "runs         14234\n",
       "Name: 1, dtype: object"
      ]
     },
     "execution_count": 175,
     "metadata": {},
     "output_type": "execute_result"
    }
   ],
   "source": [
    "df1.iloc[0] #Get First Row"
   ]
  },
  {
   "cell_type": "markdown",
   "id": "187d3e4d-9a14-418c-aef3-2b4ff4873e2e",
   "metadata": {},
   "source": [
    "**Aggregating Data at Any Level**\n",
    "\n",
    "_Aggregation is the process of combining or grouping data together into a\n",
    "set, bag, or list. \n",
    "The data may or may not be alike. However, in most cases,\n",
    "an aggregation function combines several rows together statistically using\n",
    "­algorithms such as average, count, maximum, median, minimum, mode, or\n",
    "sum._"
   ]
  },
  {
   "cell_type": "code",
   "execution_count": 176,
   "id": "eda0382b-8f78-44be-8e09-51c683df513c",
   "metadata": {
    "tags": []
   },
   "outputs": [],
   "source": [
    "df = pd.DataFrame([[1, 2, 3],\n",
    "\n",
    "                   [4, 5, 6],\n",
    "\n",
    "                   [7, 8, 9],\n",
    "\n",
    "                   [np.nan, np.nan, np.nan]],\n",
    "\n",
    "                  columns=['A', 'B', 'C'])"
   ]
  },
  {
   "cell_type": "code",
   "execution_count": 177,
   "id": "334de328-e6a4-4743-8860-ee7a04fc31c3",
   "metadata": {
    "tags": []
   },
   "outputs": [
    {
     "data": {
      "text/html": [
       "<div>\n",
       "<style scoped>\n",
       "    .dataframe tbody tr th:only-of-type {\n",
       "        vertical-align: middle;\n",
       "    }\n",
       "\n",
       "    .dataframe tbody tr th {\n",
       "        vertical-align: top;\n",
       "    }\n",
       "\n",
       "    .dataframe thead th {\n",
       "        text-align: right;\n",
       "    }\n",
       "</style>\n",
       "<table border=\"1\" class=\"dataframe\">\n",
       "  <thead>\n",
       "    <tr style=\"text-align: right;\">\n",
       "      <th></th>\n",
       "      <th>A</th>\n",
       "      <th>B</th>\n",
       "      <th>C</th>\n",
       "    </tr>\n",
       "  </thead>\n",
       "  <tbody>\n",
       "    <tr>\n",
       "      <th>0</th>\n",
       "      <td>1.0</td>\n",
       "      <td>2.0</td>\n",
       "      <td>3.0</td>\n",
       "    </tr>\n",
       "    <tr>\n",
       "      <th>1</th>\n",
       "      <td>4.0</td>\n",
       "      <td>5.0</td>\n",
       "      <td>6.0</td>\n",
       "    </tr>\n",
       "    <tr>\n",
       "      <th>2</th>\n",
       "      <td>7.0</td>\n",
       "      <td>8.0</td>\n",
       "      <td>9.0</td>\n",
       "    </tr>\n",
       "    <tr>\n",
       "      <th>3</th>\n",
       "      <td>NaN</td>\n",
       "      <td>NaN</td>\n",
       "      <td>NaN</td>\n",
       "    </tr>\n",
       "  </tbody>\n",
       "</table>\n",
       "</div>"
      ],
      "text/plain": [
       "     A    B    C\n",
       "0  1.0  2.0  3.0\n",
       "1  4.0  5.0  6.0\n",
       "2  7.0  8.0  9.0\n",
       "3  NaN  NaN  NaN"
      ]
     },
     "execution_count": 177,
     "metadata": {},
     "output_type": "execute_result"
    }
   ],
   "source": [
    "df"
   ]
  },
  {
   "cell_type": "code",
   "execution_count": 178,
   "id": "6e273bb9-e12a-41a9-9259-56c1aaaaf29f",
   "metadata": {
    "tags": []
   },
   "outputs": [
    {
     "data": {
      "text/html": [
       "<div>\n",
       "<style scoped>\n",
       "    .dataframe tbody tr th:only-of-type {\n",
       "        vertical-align: middle;\n",
       "    }\n",
       "\n",
       "    .dataframe tbody tr th {\n",
       "        vertical-align: top;\n",
       "    }\n",
       "\n",
       "    .dataframe thead th {\n",
       "        text-align: right;\n",
       "    }\n",
       "</style>\n",
       "<table border=\"1\" class=\"dataframe\">\n",
       "  <thead>\n",
       "    <tr style=\"text-align: right;\">\n",
       "      <th></th>\n",
       "      <th>A</th>\n",
       "      <th>B</th>\n",
       "      <th>C</th>\n",
       "    </tr>\n",
       "  </thead>\n",
       "  <tbody>\n",
       "    <tr>\n",
       "      <th>sum</th>\n",
       "      <td>12.0</td>\n",
       "      <td>15.0</td>\n",
       "      <td>18.0</td>\n",
       "    </tr>\n",
       "    <tr>\n",
       "      <th>min</th>\n",
       "      <td>1.0</td>\n",
       "      <td>2.0</td>\n",
       "      <td>3.0</td>\n",
       "    </tr>\n",
       "  </tbody>\n",
       "</table>\n",
       "</div>"
      ],
      "text/plain": [
       "        A     B     C\n",
       "sum  12.0  15.0  18.0\n",
       "min   1.0   2.0   3.0"
      ]
     },
     "execution_count": 178,
     "metadata": {},
     "output_type": "execute_result"
    }
   ],
   "source": [
    "df.agg(['sum', 'min'])"
   ]
  },
  {
   "cell_type": "code",
   "execution_count": 179,
   "id": "5a8f31aa-3b3d-404d-ab36-bed3988f8ccd",
   "metadata": {
    "tags": []
   },
   "outputs": [
    {
     "data": {
      "text/html": [
       "<div>\n",
       "<style scoped>\n",
       "    .dataframe tbody tr th:only-of-type {\n",
       "        vertical-align: middle;\n",
       "    }\n",
       "\n",
       "    .dataframe tbody tr th {\n",
       "        vertical-align: top;\n",
       "    }\n",
       "\n",
       "    .dataframe thead th {\n",
       "        text-align: right;\n",
       "    }\n",
       "</style>\n",
       "<table border=\"1\" class=\"dataframe\">\n",
       "  <thead>\n",
       "    <tr style=\"text-align: right;\">\n",
       "      <th></th>\n",
       "      <th>A</th>\n",
       "      <th>B</th>\n",
       "    </tr>\n",
       "  </thead>\n",
       "  <tbody>\n",
       "    <tr>\n",
       "      <th>sum</th>\n",
       "      <td>12.0</td>\n",
       "      <td>NaN</td>\n",
       "    </tr>\n",
       "    <tr>\n",
       "      <th>min</th>\n",
       "      <td>1.0</td>\n",
       "      <td>2.0</td>\n",
       "    </tr>\n",
       "    <tr>\n",
       "      <th>max</th>\n",
       "      <td>NaN</td>\n",
       "      <td>8.0</td>\n",
       "    </tr>\n",
       "  </tbody>\n",
       "</table>\n",
       "</div>"
      ],
      "text/plain": [
       "        A    B\n",
       "sum  12.0  NaN\n",
       "min   1.0  2.0\n",
       "max   NaN  8.0"
      ]
     },
     "execution_count": 179,
     "metadata": {},
     "output_type": "execute_result"
    }
   ],
   "source": [
    "df.agg({'A' : ['sum', 'min'], 'B' : ['min', 'max']})"
   ]
  },
  {
   "cell_type": "code",
   "execution_count": 183,
   "id": "89fc9d1f-ba55-4813-af6d-0cc669a22874",
   "metadata": {
    "tags": []
   },
   "outputs": [
    {
     "data": {
      "text/plain": [
       "A    4.0\n",
       "B    5.0\n",
       "C    6.0\n",
       "dtype: float64"
      ]
     },
     "execution_count": 183,
     "metadata": {},
     "output_type": "execute_result"
    }
   ],
   "source": [
    "df.agg(\"mean\")"
   ]
  },
  {
   "cell_type": "markdown",
   "id": "84146da1-52d3-4ebd-9741-982a5758943d",
   "metadata": {},
   "source": [
    "**Date Formating**"
   ]
  },
  {
   "cell_type": "code",
   "execution_count": 33,
   "id": "e37e1e99-75d3-4405-ba5c-6688bd6ac5c3",
   "metadata": {
    "tags": []
   },
   "outputs": [],
   "source": [
    "import datetime as dt"
   ]
  },
  {
   "cell_type": "code",
   "execution_count": 34,
   "id": "14cdbafe-671f-4729-a1e1-7a7d0fb3d06f",
   "metadata": {
    "tags": []
   },
   "outputs": [],
   "source": [
    "now = dt.datetime.now()"
   ]
  },
  {
   "cell_type": "code",
   "execution_count": 35,
   "id": "3f000d9c-062e-48df-8267-017013b168d6",
   "metadata": {
    "tags": []
   },
   "outputs": [
    {
     "data": {
      "text/plain": [
       "datetime.datetime(2023, 9, 12, 15, 26, 17, 207436)"
      ]
     },
     "execution_count": 35,
     "metadata": {},
     "output_type": "execute_result"
    }
   ],
   "source": [
    "now"
   ]
  },
  {
   "cell_type": "code",
   "execution_count": 196,
   "id": "cd6d7bbf-8037-4f0c-b974-f13381d8cc3e",
   "metadata": {
    "tags": []
   },
   "outputs": [
    {
     "data": {
      "text/plain": [
       "'Tue, 12 September 2023'"
      ]
     },
     "execution_count": 196,
     "metadata": {},
     "output_type": "execute_result"
    }
   ],
   "source": [
    "now.strftime('%a, %d %B %Y')\n",
    "\n",
    "#https://strftime.org/"
   ]
  },
  {
   "cell_type": "code",
   "execution_count": 199,
   "id": "a868a5b6-da8a-4cb4-bbdd-2876978e45c4",
   "metadata": {
    "tags": []
   },
   "outputs": [
    {
     "name": "stdout",
     "output_type": "stream",
     "text": [
      "2023-09-12 14:04:18.755215\n",
      "2023-09-12 16:04:18.755215\n"
     ]
    }
   ],
   "source": [
    "print(now)\n",
    "timevalue = now + dt.timedelta(hours=2)\n",
    "print(timevalue)"
   ]
  },
  {
   "cell_type": "code",
   "execution_count": null,
   "id": "bfca2fa1-d248-4ed6-bf35-5ff73891df79",
   "metadata": {},
   "outputs": [],
   "source": []
  },
  {
   "cell_type": "code",
   "execution_count": null,
   "id": "02b2ddd6-290c-428f-a16b-6bba00b6838f",
   "metadata": {},
   "outputs": [],
   "source": []
  },
  {
   "cell_type": "code",
   "execution_count": null,
   "id": "6e502df6-b96b-4ea2-85d8-ca3b5bc9c7d6",
   "metadata": {},
   "outputs": [],
   "source": []
  },
  {
   "cell_type": "code",
   "execution_count": null,
   "id": "745523bb-b434-433f-a6b7-3edac0bbab84",
   "metadata": {},
   "outputs": [],
   "source": []
  },
  {
   "cell_type": "code",
   "execution_count": null,
   "id": "fbb7c353-f3d1-461d-ac7f-6c6467905d37",
   "metadata": {},
   "outputs": [],
   "source": []
  },
  {
   "cell_type": "code",
   "execution_count": null,
   "id": "444de2f6-e4dd-46cf-9553-137b170dbd88",
   "metadata": {},
   "outputs": [],
   "source": []
  },
  {
   "cell_type": "code",
   "execution_count": null,
   "id": "0f9ace2e-242b-4690-b900-5037e8d37beb",
   "metadata": {},
   "outputs": [],
   "source": []
  },
  {
   "cell_type": "code",
   "execution_count": null,
   "id": "c66f3e6e-0ac9-4bf7-aecc-a373e961f556",
   "metadata": {},
   "outputs": [],
   "source": []
  },
  {
   "cell_type": "markdown",
   "id": "b3d1cde9-1feb-443e-8fd9-c7ba8a182276",
   "metadata": {
    "tags": []
   },
   "source": [
    "# Getting Your Hands Dirty With Data:\n",
    "### Shaping Data:"
   ]
  },
  {
   "cell_type": "markdown",
   "id": "bcea500a-bdac-4fed-a368-31755c06336c",
   "metadata": {},
   "source": [
    "1) Working with HTML Pages, \n",
    "2) Parsing XML and HTML, \n",
    "3) Using XPath for data extraction, \n",
    "4) Working with Raw Text, \n",
    "5) Dealing with Unicode, \n",
    "6) Stemming and removing stop words, \n",
    "7) Introducing regular expressions, \n",
    "8) Using the Bag of Words Model and Beyond, \n",
    "9) Understanding the bag of words model, \n",
    "10) Working with n-grams, \n",
    "11) Implementing TF-IDF transformations, \n",
    "12) Working with Graph Data,\n",
    "13) Understanding the adjacency matrix, \n",
    "14) Using NetworkX basics."
   ]
  },
  {
   "cell_type": "markdown",
   "id": "189f582d-a054-4887-bdb3-84e52254594d",
   "metadata": {
    "tags": []
   },
   "source": [
    "### 1) Working with HTML Pages, \n"
   ]
  },
  {
   "cell_type": "code",
   "execution_count": 7,
   "id": "08ffc78f-4737-43b6-a534-c07c10545cc5",
   "metadata": {
    "tags": []
   },
   "outputs": [
    {
     "name": "stdout",
     "output_type": "stream",
     "text": [
      "The Zen of Python, by Tim Peters\n",
      "\n",
      "Beautiful is better than ugly.\n",
      "Explicit is better than implicit.\n",
      "Simple is better than complex.\n",
      "Complex is better than complicated.\n",
      "Flat is better than nested.\n",
      "Sparse is better than dense.\n",
      "Readability counts.\n",
      "Special cases aren't special enough to break the rules.\n",
      "Although practicality beats purity.\n",
      "Errors should never pass silently.\n",
      "Unless explicitly silenced.\n",
      "In the face of ambiguity, refuse the temptation to guess.\n",
      "There should be one-- and preferably only one --obvious way to do it.\n",
      "Although that way may not be obvious at first unless you're Dutch.\n",
      "Now is better than never.\n",
      "Although never is often better than *right* now.\n",
      "If the implementation is hard to explain, it's a bad idea.\n",
      "If the implementation is easy to explain, it may be a good idea.\n",
      "Namespaces are one honking great idea -- let's do more of those!\n"
     ]
    }
   ],
   "source": [
    "# !touch Colors.txt\n",
    "with open('Colors.txt') as f:\n",
    "    print(f.read())"
   ]
  },
  {
   "cell_type": "code",
   "execution_count": 10,
   "id": "6091eeb6-8366-45ae-b93d-26f36eba6978",
   "metadata": {
    "tags": []
   },
   "outputs": [
    {
     "name": "stdout",
     "output_type": "stream",
     "text": [
      "['The Zen of Python, by Tim Peters\\n', '\\n', 'Beautiful is better than ugly.\\n', 'Explicit is better than implicit.\\n', 'Simple is better than complex.\\n', 'Complex is better than complicated.\\n', 'Flat is better than nested.\\n', 'Sparse is better than dense.\\n', 'Readability counts.\\n', \"Special cases aren't special enough to break the rules.\\n\", 'Although practicality beats purity.\\n', 'Errors should never pass silently.\\n', 'Unless explicitly silenced.\\n', 'In the face of ambiguity, refuse the temptation to guess.\\n', 'There should be one-- and preferably only one --obvious way to do it.\\n', \"Although that way may not be obvious at first unless you're Dutch.\\n\", 'Now is better than never.\\n', 'Although never is often better than *right* now.\\n', \"If the implementation is hard to explain, it's a bad idea.\\n\", 'If the implementation is easy to explain, it may be a good idea.\\n', \"Namespaces are one honking great idea -- let's do more of those!\"]\n"
     ]
    }
   ],
   "source": [
    "# !touch Colors.txt\n",
    "with open('Colors.txt') as f:\n",
    "    print(f.readlines())\n",
    "    # print(f.readline())\n",
    "\n",
    "    print(type(f.readlines()))"
   ]
  },
  {
   "cell_type": "code",
   "execution_count": 59,
   "id": "99a53b81-58f8-4ba2-ac61-ccdde9d4cbc5",
   "metadata": {
    "tags": []
   },
   "outputs": [
    {
     "name": "stdout",
     "output_type": "stream",
     "text": [
      "Empty DataFrame\n",
      "Columns: [book_id, title]\n",
      "Index: []\n"
     ]
    }
   ],
   "source": [
    "from lxml import objectify\n",
    "import pandas as pd\n",
    "from distutils import util\n",
    "xml = objectify.parse(open('book.xml'))\n",
    "root = xml.getroot()\n",
    "df = pd.DataFrame(columns=('book_id', 'title'))\n",
    "\n",
    "# print(type(df))\n",
    "# print(root.tag)\n",
    "# print(root.attrib)\n",
    "\n",
    "for i in range(0,4):\n",
    "    obj = root.getchildren()[i].getchildren()\n",
    "    # print(obj)\n",
    "    # print(type(obj))\n",
    "    row = dict(zip(['Author', 'Title'], [obj[0], obj[1]]))\n",
    "    # print(row)\n",
    "    row_s = pd.Series(row)\n",
    "    # print(root.getchildren()[i].attrib)\n",
    "    # row_s.name = root.getchildren()[i].attrib\n",
    "    # print(row_s.name)\n",
    "    # print(row_s)\n",
    "    # print(type(row_s))\n",
    "    df.\n",
    "\n",
    "print(df)    \n"
   ]
  },
  {
   "cell_type": "code",
   "execution_count": 20,
   "id": "ac55a4ad-876d-4648-9fd5-867dc714f04b",
   "metadata": {
    "tags": []
   },
   "outputs": [],
   "source": [
    "import xml.etree.ElementTree as ET"
   ]
  },
  {
   "cell_type": "code",
   "execution_count": 21,
   "id": "7af50a3e-40ae-4b3a-8cc2-3060fced9fdb",
   "metadata": {
    "tags": []
   },
   "outputs": [],
   "source": [
    "tree = ET.parse('book.xml')\n",
    "root = tree.getroot()"
   ]
  },
  {
   "cell_type": "code",
   "execution_count": 22,
   "id": "0b38124f-11f6-4209-9418-61393c4b8a9c",
   "metadata": {
    "tags": []
   },
   "outputs": [
    {
     "data": {
      "text/plain": [
       "'catalog'"
      ]
     },
     "execution_count": 22,
     "metadata": {},
     "output_type": "execute_result"
    }
   ],
   "source": [
    "root.tag"
   ]
  },
  {
   "cell_type": "code",
   "execution_count": 23,
   "id": "bc85dd87-2fa7-4a73-a16f-a1ae5d40a440",
   "metadata": {
    "tags": []
   },
   "outputs": [
    {
     "data": {
      "text/plain": [
       "{}"
      ]
     },
     "execution_count": 23,
     "metadata": {},
     "output_type": "execute_result"
    }
   ],
   "source": [
    "root.attrib"
   ]
  },
  {
   "cell_type": "code",
   "execution_count": 30,
   "id": "37aaed91-221b-4ca2-bbc5-e5757005915d",
   "metadata": {
    "tags": []
   },
   "outputs": [
    {
     "name": "stdout",
     "output_type": "stream",
     "text": [
      "book {'id': 'bk101'}\n",
      "book {'id': 'bk102'}\n",
      "book {'id': 'bk103'}\n",
      "book {'id': 'bk104'}\n",
      "book {'id': 'bk105'}\n",
      "book {'id': 'bk106'}\n",
      "book {'id': 'bk107'}\n",
      "book {'id': 'bk108'}\n",
      "book {'id': 'bk109'}\n",
      "book {'id': 'bk110'}\n",
      "book {'id': 'bk111'}\n",
      "book {'id': 'bk112'}\n"
     ]
    }
   ],
   "source": [
    "for child in root:\n",
    "    print(child.tag, child.attrib)"
   ]
  },
  {
   "cell_type": "code",
   "execution_count": 32,
   "id": "0ee9ad10-088a-4dd5-9fa6-acde7f7cdffb",
   "metadata": {
    "tags": []
   },
   "outputs": [
    {
     "data": {
      "text/plain": [
       "['catalog',\n",
       " 'book',\n",
       " 'author',\n",
       " 'title',\n",
       " 'genre',\n",
       " 'price',\n",
       " 'publish_date',\n",
       " 'description',\n",
       " 'book',\n",
       " 'author',\n",
       " 'title',\n",
       " 'genre',\n",
       " 'price',\n",
       " 'publish_date',\n",
       " 'description',\n",
       " 'book',\n",
       " 'author',\n",
       " 'title',\n",
       " 'genre',\n",
       " 'price',\n",
       " 'publish_date',\n",
       " 'description',\n",
       " 'book',\n",
       " 'author',\n",
       " 'title',\n",
       " 'genre',\n",
       " 'price',\n",
       " 'publish_date',\n",
       " 'description',\n",
       " 'book',\n",
       " 'author',\n",
       " 'title',\n",
       " 'genre',\n",
       " 'price',\n",
       " 'publish_date',\n",
       " 'description',\n",
       " 'book',\n",
       " 'author',\n",
       " 'title',\n",
       " 'genre',\n",
       " 'price',\n",
       " 'publish_date',\n",
       " 'description',\n",
       " 'book',\n",
       " 'author',\n",
       " 'title',\n",
       " 'genre',\n",
       " 'price',\n",
       " 'publish_date',\n",
       " 'description',\n",
       " 'book',\n",
       " 'author',\n",
       " 'title',\n",
       " 'genre',\n",
       " 'price',\n",
       " 'publish_date',\n",
       " 'description',\n",
       " 'book',\n",
       " 'author',\n",
       " 'title',\n",
       " 'genre',\n",
       " 'price',\n",
       " 'publish_date',\n",
       " 'description',\n",
       " 'book',\n",
       " 'author',\n",
       " 'title',\n",
       " 'genre',\n",
       " 'price',\n",
       " 'publish_date',\n",
       " 'description',\n",
       " 'book',\n",
       " 'author',\n",
       " 'title',\n",
       " 'genre',\n",
       " 'price',\n",
       " 'publish_date',\n",
       " 'description',\n",
       " 'book',\n",
       " 'author',\n",
       " 'title',\n",
       " 'genre',\n",
       " 'price',\n",
       " 'publish_date',\n",
       " 'description']"
      ]
     },
     "execution_count": 32,
     "metadata": {},
     "output_type": "execute_result"
    }
   ],
   "source": [
    "[elem.tag for elem in root.iter()]"
   ]
  },
  {
   "cell_type": "code",
   "execution_count": 34,
   "id": "746abb09-4e80-464e-b3e0-670961b35789",
   "metadata": {
    "tags": []
   },
   "outputs": [
    {
     "name": "stdout",
     "output_type": "stream",
     "text": [
      "{'id': 'bk101'}\n",
      "{'id': 'bk102'}\n",
      "{'id': 'bk103'}\n",
      "{'id': 'bk104'}\n",
      "{'id': 'bk105'}\n",
      "{'id': 'bk106'}\n",
      "{'id': 'bk107'}\n",
      "{'id': 'bk108'}\n",
      "{'id': 'bk109'}\n",
      "{'id': 'bk110'}\n",
      "{'id': 'bk111'}\n",
      "{'id': 'bk112'}\n"
     ]
    }
   ],
   "source": [
    "for book in root.iter('book'):\n",
    "    print(book.attrib)"
   ]
  },
  {
   "cell_type": "code",
   "execution_count": 35,
   "id": "94f011d9-3baf-4c3f-8f8c-71cf1ecd20db",
   "metadata": {
    "tags": []
   },
   "outputs": [
    {
     "name": "stdout",
     "output_type": "stream",
     "text": [
      "{}\n",
      "{}\n",
      "{}\n",
      "{}\n",
      "{}\n",
      "{}\n",
      "{}\n",
      "{}\n",
      "{}\n",
      "{}\n",
      "{}\n",
      "{}\n"
     ]
    }
   ],
   "source": [
    "for movie in root.iter('title'):\n",
    "    print(movie.attrib)"
   ]
  }
 ],
 "metadata": {
  "kernelspec": {
   "display_name": "Python 3 (ipykernel)",
   "language": "python",
   "name": "python3"
  },
  "language_info": {
   "codemirror_mode": {
    "name": "ipython",
    "version": 3
   },
   "file_extension": ".py",
   "mimetype": "text/x-python",
   "name": "python",
   "nbconvert_exporter": "python",
   "pygments_lexer": "ipython3",
   "version": "3.10.12"
  }
 },
 "nbformat": 4,
 "nbformat_minor": 5
}
